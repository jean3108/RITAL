{
 "cells": [
  {
   "cell_type": "markdown",
   "metadata": {},
   "source": [
    "# I -  Lecture de fichier"
   ]
  },
  {
   "cell_type": "code",
   "execution_count": 22,
   "metadata": {},
   "outputs": [],
   "source": [
    "import codecs\n",
    "import re\n",
    "import numpy as np\n",
    "import sklearn.feature_extraction.text as txt\n",
    "\n",
    "def read_file(fn):\n",
    "    with codecs.open(fn,encoding=\"utf-8\") as f:\n",
    "        return f.read()\n",
    "\n",
    "def compteLignes(fname):\n",
    "    fd = open(fname, 'r')\n",
    "    n = 0\n",
    "    for line in fd:\n",
    "        n += 1\n",
    "    return n\n",
    "\n",
    "def file_array(fname, nblignes) : \n",
    "    \n",
    "    #nblignes = compteLignes(fname)\n",
    "    #print(\"nblignes = %d\"%nblignes)\n",
    "\n",
    "    alltxts = []\n",
    "    labs = np.ones(nblignes)\n",
    "    s = codecs.open(fname, 'r','utf-8') # pour régler le codage\n",
    "\n",
    "    cpt = 0\n",
    "    for i in range(nblignes):\n",
    "        txt = s.readline()\n",
    "\n",
    "        lab = re.sub(r\"<[0-9]*:[0-9]*:(.)>.*\",\"\\\\1\",txt)\n",
    "        txt = re.sub(r\"<[0-9]*:[0-9]*:.>(.*)\",\"\\\\1\",txt)\n",
    "\n",
    "        if lab.count('M') >0:\n",
    "            labs[cpt] = -1\n",
    "        alltxts.append(txt)\n",
    "\n",
    "        cpt += 1\n",
    "        \n",
    "    x = np.array(alltxts)\n",
    "    y = np.array(labs)\n",
    "    \n",
    "    return x[:nblignes], y[:nblignes]"
   ]
  },
  {
   "cell_type": "code",
   "execution_count": 45,
   "metadata": {},
   "outputs": [
    {
     "name": "stdout",
     "output_type": "stream",
     "text": [
      "[\" Quand je dis chers amis, il ne s'agit pas là d'une formule diplomatique, mais de l'expression de ce que je ressens.\\n\"\n",
      " \" D'abord merci de cet exceptionnel accueil que les Congolais, les Brazavillois, nous ont réservé cet après-midi.\\n\"\n",
      " \" C'est toujours très émouvant de venir en Afrique car c'est probablement l'une des rares terres du monde où l'on ait conservé cette convivialité, cette amitié, ce respect de l'autre qui s'expriment avec chaleur, avec spontanéité et qui réchauffent le coeur de ceux qui arrivent et de ceux qui reçoivent.\\n\"\n",
      " ... \" Ils m'ont fait part de leurs expériences.\\n\"\n",
      " \" Des expériences qui montrent que l'imagination, l'esprit d'équipe, l'engagement de tous peuvent faire reculer la violence.\\n\"\n",
      " \" Ces expériences, il faut les faire mieux connaître afin que les responsables éducatifs puissent s'en inspirer.\\n\"]\n"
     ]
    }
   ],
   "source": [
    "# data train & test\n",
    "\n",
    "n_train = 10000\n",
    "n_test = 100\n",
    "\n",
    "fname_train = \"AFDpresidentutf8/corpus.tache1.learn.utf8\"\n",
    "fname_test = \"AFDpresidentutf8/corpus.tache1.test.utf8\"\n",
    "\n",
    "x_train, y_train = file_array(fname_train, n_train)\n",
    "x_test, y_test = file_array(fname_test, n_test)\n",
    "\n",
    "print(x_train)"
   ]
  },
  {
   "cell_type": "markdown",
   "metadata": {},
   "source": [
    "# II - Création de vecteurs"
   ]
  },
  {
   "cell_type": "code",
   "execution_count": 46,
   "metadata": {},
   "outputs": [
    {
     "name": "stdout",
     "output_type": "stream",
     "text": [
      "  (0, 764)\t1\n",
      "  (0, 340)\t1\n",
      "  (0, 104)\t1\n",
      "  (0, 523)\t1\n",
      "  (0, 692)\t1\n",
      "  (0, 289)\t1\n",
      "  (0, 339)\t1\n",
      "  (0, 215)\t1\n",
      "  (0, 451)\t2\n",
      "  (0, 453)\t1\n",
      "  (0, 204)\t1\n",
      "  (0, 407)\t1\n",
      "  (0, 539)\t1\n",
      "  (0, 249)\t5\n",
      "  (0, 541)\t1\n",
      "  (0, 180)\t2\n",
      "  (0, 860)\t1\n",
      "  (0, 143)\t1\n",
      "  (0, 567)\t1\n",
      "  (0, 218)\t1\n",
      "  (0, 83)\t1\n",
      "  (0, 429)\t1\n",
      "  (0, 255)\t1\n",
      "  (0, 87)\t1\n",
      "  (0, 382)\t1\n",
      "  :\t:\n",
      "  (98, 249)\t1\n",
      "  (98, 826)\t1\n",
      "  (99, 695)\t1\n",
      "  (99, 270)\t1\n",
      "  (99, 433)\t1\n",
      "  (99, 418)\t1\n",
      "  (99, 84)\t1\n",
      "  (99, 67)\t1\n",
      "  (99, 132)\t1\n",
      "  (99, 4)\t1\n",
      "  (99, 569)\t1\n",
      "  (99, 240)\t1\n",
      "  (99, 18)\t1\n",
      "  (99, 800)\t1\n",
      "  (99, 248)\t1\n",
      "  (99, 749)\t1\n",
      "  (99, 787)\t1\n",
      "  (99, 356)\t1\n",
      "  (99, 767)\t2\n",
      "  (99, 570)\t3\n",
      "  (99, 593)\t1\n",
      "  (99, 617)\t1\n",
      "  (99, 442)\t1\n",
      "  (99, 451)\t1\n",
      "  (99, 453)\t1\n"
     ]
    }
   ],
   "source": [
    "vec = txt.CountVectorizer() # outil de vectorisation\n",
    "\n",
    "# train\n",
    "bow_train = vec.fit_transform(x_train) # instatiation de l'outil de vectorisation sur le corpus\n",
    "\n",
    "# test\n",
    "bow_test = vec.fit_transform(x_test) # instatiation de l'outil de vectorisation sur le corpus\n",
    "\n",
    "print(bow_test)"
   ]
  },
  {
   "cell_type": "markdown",
   "metadata": {},
   "source": [
    "# III - Classification"
   ]
  },
  {
   "cell_type": "markdown",
   "metadata": {},
   "source": [
    "## SVM"
   ]
  },
  {
   "cell_type": "code",
   "execution_count": 49,
   "metadata": {},
   "outputs": [
    {
     "name": "stdout",
     "output_type": "stream",
     "text": [
      "{'fit_time': array([0.19016171, 0.16162992, 0.19480968, 0.106915  , 0.22972012]), 'score_time': array([0.00089407, 0.00082946, 0.00082564, 0.00082922, 0.00096941]), 'test_score': array([0.89875342, 0.89241085, 0.89467312, 0.90003039, 0.88406696]), 'train_score': array([0.99883658, 0.99844889, 0.99875873, 0.99837197, 0.9989917 ])}\n"
     ]
    }
   ],
   "source": [
    "import numpy as np\n",
    "import sklearn.naive_bayes as nb\n",
    "from sklearn import svm\n",
    "from sklearn import linear_model as lin\n",
    "from sklearn.model_selection import cross_validate\n",
    "\n",
    "# SVM\n",
    "clf = svm.LinearSVC()\n",
    "\n",
    "scores = cross_validate(clf, bow_train, y_train, cv=5, scoring='f1')\n",
    "\n",
    "print(scores)"
   ]
  },
  {
   "cell_type": "markdown",
   "metadata": {},
   "source": [
    "## Regresson logistique"
   ]
  },
  {
   "cell_type": "code",
   "execution_count": 51,
   "metadata": {},
   "outputs": [
    {
     "name": "stderr",
     "output_type": "stream",
     "text": [
      "/usr/local/anaconda3/lib/python3.7/site-packages/sklearn/linear_model/logistic.py:433: FutureWarning: Default solver will be changed to 'lbfgs' in 0.22. Specify a solver to silence this warning.\n",
      "  FutureWarning)\n"
     ]
    },
    {
     "name": "stdout",
     "output_type": "stream",
     "text": [
      "{'fit_time': array([0.30883241, 0.09477615, 0.08600235, 0.10614181, 0.07614899]), 'score_time': array([0.00089812, 0.0008564 , 0.0008471 , 0.00084162, 0.00085521]), 'test_score': array([0.91306919, 0.90871492, 0.91058341, 0.91408326, 0.89924357]), 'train_score': array([0.97792326, 0.97739898, 0.97627737, 0.9767265 , 0.97784882])}\n"
     ]
    }
   ],
   "source": [
    "clf = lin.LogisticRegression()\n",
    "\n",
    "scores = cross_validate(clf, bow_train, y_train, cv=5, scoring='f1') # scoring roc_auc\n",
    "\n",
    "print(scores)"
   ]
  },
  {
   "cell_type": "markdown",
   "metadata": {},
   "source": [
    "## Multinomial"
   ]
  },
  {
   "cell_type": "code",
   "execution_count": 52,
   "metadata": {},
   "outputs": [
    {
     "name": "stdout",
     "output_type": "stream",
     "text": [
      "{'fit_time': array([0.07199526, 0.00467038, 0.0042088 , 0.00369382, 0.00337958]), 'score_time': array([0.00428152, 0.00126743, 0.00111461, 0.00100517, 0.00094724]), 'test_score': array([0.89901698, 0.90295102, 0.90261716, 0.90431061, 0.89053803]), 'train_score': array([0.95727535, 0.95556908, 0.95636972, 0.95542753, 0.95631031])}\n"
     ]
    }
   ],
   "source": [
    "clf = nb.MultinomialNB()\n",
    "\n",
    "scores = cross_validate(clf, bow_train, y_train, cv=5, scoring='f1')\n",
    "\n",
    "print(scores)"
   ]
  }
 ],
 "metadata": {
  "kernelspec": {
   "display_name": "Python 3",
   "language": "python",
   "name": "python3"
  },
  "language_info": {
   "codemirror_mode": {
    "name": "ipython",
    "version": 3
   },
   "file_extension": ".py",
   "mimetype": "text/x-python",
   "name": "python",
   "nbconvert_exporter": "python",
   "pygments_lexer": "ipython3",
   "version": "3.7.3"
  }
 },
 "nbformat": 4,
 "nbformat_minor": 2
}
