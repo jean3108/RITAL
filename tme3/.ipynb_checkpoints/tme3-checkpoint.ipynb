{
 "cells": [
  {
   "cell_type": "code",
   "execution_count": 87,
   "metadata": {},
   "outputs": [],
   "source": [
    "import numpy as np\n",
    "from collections import Counter\n",
    "import porter as p\n",
    "import re\n",
    "from Weighter import Weighter1\n",
    "from IRModel import Vectoriel\n",
    "from Parser import Parser\n",
    "from IndexerSimple import IndexerSimple"
   ]
  },
  {
   "cell_type": "markdown",
   "metadata": {},
   "source": [
    "- Données test (Docs / Requêtes)"
   ]
  },
  {
   "cell_type": "code",
   "execution_count": 88,
   "metadata": {},
   "outputs": [],
   "source": [
    "docs=[\"the new home has been saled on top forecasts\",\n",
    "     \"the home sales rise in july\",\n",
    "     \"there is an increase in home sales in july\",\n",
    "     \"july encounter a new home sales rise\"]\n",
    "\n",
    "reqs = [\"top sales\",\n",
    "       \"sales increase july\",\n",
    "       \"new home\"]\n",
    "\n",
    "stopWords=[\"the\",\"a\",\"an\",\"on\",\"behind\",\"under\",\"there\",\"in\"]\n",
    "\n",
    "index = {}\n",
    "for i in range(len(docs)):\n",
    "    index[i] = dict(Counter(map(p.stem, [word for word in (str.lower(docs[i])).split() if word not in stopWords])))           \n",
    "            \n",
    "indexInverse = {}\n",
    "for numDoc, dico in index.items():\n",
    "    for word, tf in dico.items():\n",
    "        if(word not in indexInverse):\n",
    "            indexInverse[word]= {}\n",
    "        indexInverse[word][numDoc] = tf"
   ]
  },
  {
   "cell_type": "markdown",
   "metadata": {},
   "source": [
    "- Pertinence des requêtes"
   ]
  },
  {
   "cell_type": "code",
   "execution_count": 89,
   "metadata": {},
   "outputs": [],
   "source": [
    "pertiReq = {0:{0},      #doc1 pertinent pour req1\n",
    "           1:{1,2},     #doc2 et 3 pertinent pour req2 (doc2 plus pertinent que doc3)\n",
    "           2:{}}        #aucuns docs pertinents pour req3"
   ]
  },
  {
   "cell_type": "code",
   "execution_count": 90,
   "metadata": {},
   "outputs": [],
   "source": [
    "if 1 in pertiReq[0]:\n",
    "    print(\"hello\")"
   ]
  },
  {
   "cell_type": "markdown",
   "metadata": {},
   "source": [
    "## Exercice 1."
   ]
  },
  {
   "cell_type": "markdown",
   "metadata": {},
   "source": [
    "- modèle booléen"
   ]
  },
  {
   "cell_type": "code",
   "execution_count": 91,
   "metadata": {},
   "outputs": [],
   "source": [
    "def booleen(query):\n",
    "    req = list(np.unique(list(map(p.stem, query.split())))) \n",
    "    #représentation du résultat comme unensemble de documents\n",
    "    res=set(index)\n",
    "    for stem in req:\n",
    "        res=res.intersection(indexInverse[stem])#On récupère l'intersection des documents contenant un mot de la requete\n",
    "    return res"
   ]
  },
  {
   "cell_type": "code",
   "execution_count": 92,
   "metadata": {},
   "outputs": [
    {
     "data": {
      "text/plain": [
       "{2}"
      ]
     },
     "execution_count": 92,
     "metadata": {},
     "output_type": "execute_result"
    }
   ],
   "source": [
    "booleen(reqs[1])"
   ]
  },
  {
   "cell_type": "markdown",
   "metadata": {},
   "source": [
    "- modele vectoriel"
   ]
  },
  {
   "cell_type": "code",
   "execution_count": 93,
   "metadata": {},
   "outputs": [],
   "source": [
    "#modele vectoriel\n",
    "def vect(query):\n",
    "    nbDoc = 4\n",
    "    req = list(np.unique(list(map(p.stem,query.split()))))\n",
    "    res = [indexInverse[i] for i in req]\n",
    "    doc = []\n",
    "    doc_res = np.zeros(nbDoc)\n",
    "    for w in res:\n",
    "        doc.append(set(w.keys()))\n",
    "    for w in doc:\n",
    "        for d in w:\n",
    "            doc_res[d]+=1\n",
    "    return doc_res"
   ]
  },
  {
   "cell_type": "markdown",
   "metadata": {},
   "source": [
    "#### Precision (capacité à ne retourner que des docs pertinents)"
   ]
  },
  {
   "cell_type": "code",
   "execution_count": 94,
   "metadata": {},
   "outputs": [],
   "source": [
    "def preci(idQuery, modele = 0):\n",
    "    if modele == 0:\n",
    "        docs_retournés = booleen(reqs[idQuery])\n",
    "    elif modele == 1:\n",
    "        docs_retournés = vect(reqs[idQuery])\n",
    "    pert = set(pertiReq[idQuery])     #docs jugés pertinents\n",
    "    tp = docs_retournés.intersection(pert)  #True positifs (R & P)\n",
    "    fp = docs_retournés.difference(preci)   #False positifs (R-P)\n",
    "    if len(tp) == 0 & len(fp) == 0:\n",
    "        return 0\n",
    "    return len(tp)/(len(tp)+len(fp))     #mesure de précision"
   ]
  },
  {
   "cell_type": "code",
   "execution_count": 95,
   "metadata": {},
   "outputs": [],
   "source": [
    "def preciRangk(rang,idQuery,score,jugement):\n",
    "    \"\"\" score: dict() -> {idDoc: scoreDoc} dépend du modèle de poids adopté\n",
    "        (trié par score décroissant)\n",
    "        jugement : pertinence des requêtes\"\"\"\n",
    "    k = rang\n",
    "    res = 0\n",
    "    for i in k:\n",
    "        if score[i] in jugement[idQuery]:\n",
    "            res+=1\n",
    "    return res/k"
   ]
  },
  {
   "cell_type": "markdown",
   "metadata": {},
   "source": [
    "#### Rappel (capacité à retourner tous les docs pertinents)"
   ]
  },
  {
   "cell_type": "code",
   "execution_count": 96,
   "metadata": {},
   "outputs": [],
   "source": [
    "def rappel(idQuery, modele = 0):\n",
    "    if modele == 0:\n",
    "        docs_retournés = booleen(reqs[idQuery])\n",
    "    elif modele == 1:\n",
    "        docs_retournés = set(vect(reqs[idQuery]))\n",
    "    pert = set(pertiReq[idQuery])      #docs jugés pertinents\n",
    "    tp = docs_retournés.intersection(pert)    #True positifs (R & P)\n",
    "    fn = pert.difference(docs_retournés)      #False negatifs (P-R)\n",
    "    if len(tp) == 0 & len(fn) == 0:\n",
    "        return 0\n",
    "    return len(tp)/(len(tp)+len(fn))      #mesure de rappel"
   ]
  },
  {
   "cell_type": "code",
   "execution_count": 97,
   "metadata": {},
   "outputs": [],
   "source": [
    "def rappelRangk(rang,idQuery,score,jugement):\n",
    "    \"\"\" score: dict() -> {idDoc: scoreDoc} dépend du modèle de poids adopté\n",
    "        (trié par score décroissant)\n",
    "        jugement : pertinence des requêtes\"\"\"\n",
    "    k = rang\n",
    "    res = 0\n",
    "    for i in k:\n",
    "        if score[i] in jugement[idQuery]:\n",
    "            res+=1\n",
    "    return res/len(jugement[idQuery])"
   ]
  },
  {
   "cell_type": "code",
   "execution_count": 98,
   "metadata": {},
   "outputs": [
    {
     "data": {
      "text/plain": [
       "0"
      ]
     },
     "execution_count": 98,
     "metadata": {},
     "output_type": "execute_result"
    }
   ],
   "source": [
    "rappel(2,1)"
   ]
  },
  {
   "cell_type": "code",
   "execution_count": 99,
   "metadata": {},
   "outputs": [],
   "source": [
    "def fMesure(idQuery, rang):\n",
    "    r = rappel(idQuery)\n",
    "    p = preci(idQuery)\n",
    "    fact1 = 1+rang**2\n",
    "    fact2 = (p*r)/(p*(rang**2)+r)\n",
    "    return fact1*fact2"
   ]
  },
  {
   "cell_type": "markdown",
   "metadata": {},
   "source": [
    "## Exercice 2."
   ]
  },
  {
   "cell_type": "markdown",
   "metadata": {},
   "source": [
    "## 1. Chargement des requêtes et de leur docs pertinents"
   ]
  },
  {
   "cell_type": "code",
   "execution_count": 100,
   "metadata": {},
   "outputs": [],
   "source": [
    "class Query():\n",
    "    def __init__(self, idQuery):\n",
    "        self.identifiant = int(idQuery)\n",
    "        self.texte = \"\"\n",
    "        self.docsPertinents = []\n",
    "     \n",
    "    #GETTERS\n",
    "    def getIdentifiant(self):\n",
    "        return self.identifiant\n",
    "        \n",
    "    def getTexte(self):\n",
    "        return self.texte\n",
    "        \n",
    "    def getDocspertinents(self):\n",
    "        return self.docsPertinents\n",
    "    \n",
    "    # SETTERS\n",
    "    def setTexte(self, texte):\n",
    "        self.texte = texte\n",
    "        \n",
    "    def setDocspertinents(self, docs):\n",
    "        self.docsPertinents = docs\n",
    "        \n",
    "        \n",
    "    # METHODES\n",
    "    def addTexte(self, texte):\n",
    "        self.texte += texte\n",
    "        \n",
    "    def addDocspertinents(self,doc):\n",
    "        self.docsPertinents.append(doc)"
   ]
  },
  {
   "cell_type": "code",
   "execution_count": 101,
   "metadata": {},
   "outputs": [],
   "source": [
    "class ParserQuery():\n",
    "    \n",
    "    def parseQRY(chemin):\n",
    "        \"\"\" \n",
    "        Fonction permettant de parser les fichers QRY (requêtes avec leurs identifiants et leur texte)\n",
    "        \"\"\"\n",
    "        file = open(chemin, 'r') \n",
    "\n",
    "        res = {}\n",
    "        currentI = None\n",
    "        currentBalise = None \n",
    "        currentQuery = None\n",
    "\n",
    "        while True:\n",
    "            #lis une seule ligne\n",
    "            line = file.readline()\n",
    "\n",
    "            #si ligne vide, fin du fichier\n",
    "            if not line:\n",
    "                break\n",
    "\n",
    "            #récupère la ligne sous forme de mots\n",
    "            words=line.split()\n",
    "\n",
    "            #Si la ligne n'est pas vide\n",
    "            if(len(words)>0):\n",
    "                #Test si on est sur une balise et laquelle\n",
    "                if(words[0]==\".I\"):\n",
    "\n",
    "                    if(currentQuery != None):\n",
    "                        #J'enregistre la requete courante avant d'en créer une autre\n",
    "                        res[currentQuery.getIdentifiant()] = currentQuery \n",
    "\n",
    "                    del currentQuery\n",
    "                    currentQuery = Query(words[1])# Création d'une requete avec son identifiant\n",
    "                    currentI = words[1]\n",
    "                    currentBalise = 'I' \n",
    "\n",
    "                elif(words[0]==\".W\"):\n",
    "                    currentBalise='W' #J'indique que je suis danc une balise W\n",
    "                elif(words[0][0]=='.'): \n",
    "                    currentBalise='unknown' #J'indique que je suis dans une balsie inconnue\n",
    "                else: \n",
    "                    #On est dans le contenu d'une balise\n",
    "                    if(currentBalise=='W'):\n",
    "                        currentQuery.addTexte(line)#J'ajoute la ligne au texte de la requête\n",
    "\n",
    "        #J'enregistre la requête courante avant de quitter\n",
    "        res[currentQuery.getIdentifiant()] = currentQuery\n",
    "\n",
    "        file.close()\n",
    "        return res\n",
    "    \n",
    "    \n",
    "    def parseREL(chemin, reqs):\n",
    "        \n",
    "        file = open(chemin, 'r') \n",
    "        \n",
    "        while True:\n",
    "            #lis une seule ligne\n",
    "            line = file.readline()\n",
    "\n",
    "            #si ligne vide, fin du fichier\n",
    "            if not line:\n",
    "                break\n",
    "            words=line.split()\n",
    "            \n",
    "            if int(words[0][0]) == 0:\n",
    "                docPertinent = int(re.split('^0*',words[1])[1])\n",
    "                reqs[int(words[0][1])].addDocspertinents(docPertinent)\n",
    "            else:\n",
    "                docPertinent = int(re.split('^0*',words[1])[1])\n",
    "                reqs[int(words[0])].addDocspertinents(docPertinent)\n",
    "                     \n",
    "        file.close()\n",
    "        return reqs"
   ]
  },
  {
   "cell_type": "code",
   "execution_count": 102,
   "metadata": {},
   "outputs": [],
   "source": [
    "req1 = ParserQuery.parseQRY('cacm.qry')\n",
    "req2 = ParserQuery.parseREL('cacm.rel',req1)"
   ]
  },
  {
   "cell_type": "code",
   "execution_count": 103,
   "metadata": {},
   "outputs": [
    {
     "data": {
      "text/plain": [
       "' What articles exist which deal with TSS (Time Sharing System), an\\noperating system for IBM computers?\\n'"
      ]
     },
     "execution_count": 103,
     "metadata": {},
     "output_type": "execute_result"
    }
   ],
   "source": [
    "req2[1].getTexte()"
   ]
  },
  {
   "cell_type": "markdown",
   "metadata": {},
   "source": [
    "## 2. Métriques"
   ]
  },
  {
   "cell_type": "code",
   "execution_count": 104,
   "metadata": {},
   "outputs": [],
   "source": [
    "class EvalMesure():\n",
    "    \n",
    "    def __init__(self):\n",
    "        self.query = None\n",
    "        \n",
    "    def evalQuery(self,liste):\n",
    "        pass\n",
    "    \n",
    "    #GETTERS\n",
    "    def getQuery(self):\n",
    "        return self.query\n",
    "    \n",
    "    #SETTERS\n",
    "    def setQuery(self, query):\n",
    "        self.query = query"
   ]
  },
  {
   "cell_type": "code",
   "execution_count": 105,
   "metadata": {},
   "outputs": [],
   "source": [
    "class Precision(EvalMesure):\n",
    "    \n",
    "    def __init__(self,k):\n",
    "        \n",
    "        super().__init__()\n",
    "        self.rang = k #rang de précision\n",
    "        \n",
    "    def evalQuery(self, scores):\n",
    "        \"\"\" scores: liste() -> [idDoc] dépend du modèle de poids adopté\n",
    "        (trié par score décroissant)\"\"\"\n",
    "        res = 0\n",
    "        for i in range(self.rang):\n",
    "            if scores[i] in self.query.getDocspertinents():\n",
    "                res+=1\n",
    "        return res/self.rang"
   ]
  },
  {
   "cell_type": "code",
   "execution_count": 106,
   "metadata": {},
   "outputs": [],
   "source": [
    "class Rappel(EvalMesure):\n",
    "    \n",
    "    def __init__(self,k):\n",
    "        \n",
    "        super().__init__()\n",
    "        self.rang = k #rang de rappel\n",
    "        \n",
    "    def evalQuery(self, scores):\n",
    "        \"\"\" scores: liste() -> [idDoc] dépend du modèle de poids adopté\n",
    "        (trié par score décroissant)\"\"\"\n",
    "        res = 0\n",
    "        for i in range(self.rang):\n",
    "            if scores[i] in self.query.getDocspertinents():\n",
    "                res+=1\n",
    "        return res/len(self.query.getDocspertinents())"
   ]
  },
  {
   "cell_type": "code",
   "execution_count": 107,
   "metadata": {},
   "outputs": [],
   "source": [
    "class NGCD(EvalMesure):\n",
    "    \n",
    "    def __init__(self,k):\n",
    "        \n",
    "        super().__init__()\n",
    "        self.rang = k #nombre de résultats à considérer\n",
    "        \n",
    "    def evalQuery(self, scores):\n",
    "        \"\"\" scores: liste() -> [idDoc] dépend du modèle de poids adopté\n",
    "        (trié par score décroissant)\"\"\"\n",
    "        \n",
    "        #relevance of returned docs above\n",
    "        rel = [1 if d in self.query.getDocspertinents() else 0 for d in scores]\n",
    "        \n",
    "        #sorted relevance rank\n",
    "        sorted_rel = np.sort(rel, axis=0)[::-1]\n",
    "        metric = np.log([2+i for i in range(self.rang)])\n",
    "        dcg = np.sum(rel[:self.rang]/metric)\n",
    "        dcg_max = np.sum(sorted_rel[:self.rang]/metric)\n",
    "        \n",
    "        if not dcg_max:\n",
    "            return 0\n",
    "        else:\n",
    "            return dcg/dcg_max"
   ]
  },
  {
   "cell_type": "code",
   "execution_count": 108,
   "metadata": {},
   "outputs": [],
   "source": [
    "class AP(EvalMesure):\n",
    "    \"\"\"Avg precision\"\"\"\n",
    "    \n",
    "    def __init__(self,k):\n",
    "        \n",
    "        super().__init__()\n",
    "        self.rang = k\n",
    "        \n",
    "    def evalQuery(self, scores):\n",
    "        \"\"\" calcul de la preci moyenne\"\"\"\n",
    "        return np.mean([self.preci(scores,k) for k in range(self.rang)])\n",
    "     \n",
    "    def preci(self, scores, k):\n",
    "        \"\"\" scores: liste() -> [idDoc] dépend du modèle de poids adopté\n",
    "        (trié par score décroissant)\"\"\"\n",
    "        res = 0\n",
    "        for i in range(k):\n",
    "            if scores[i] in self.query.getDocspertinents():\n",
    "                res+=1\n",
    "        return res/k"
   ]
  },
  {
   "cell_type": "markdown",
   "metadata": {},
   "source": [
    "## Test"
   ]
  },
  {
   "cell_type": "code",
   "execution_count": 109,
   "metadata": {},
   "outputs": [
    {
     "name": "stdout",
     "output_type": "stream",
     "text": [
      "['top sales', 'sales increase july', 'new home']\n",
      "['the new home has been saled on top forecasts', 'the home sales rise in july', 'there is an increase in home sales in july', 'july encounter a new home sales rise']\n",
      "{0: {0}, 1: {1, 2}, 2: {}}\n"
     ]
    }
   ],
   "source": [
    "print(reqs)\n",
    "print(docs)\n",
    "print(pertiReq)"
   ]
  },
  {
   "cell_type": "code",
   "execution_count": 110,
   "metadata": {},
   "outputs": [],
   "source": [
    "#Test query\n",
    "reqs_test = [Query(idQuery, ) for idQuery, docsPerti in pertiReq.items()]\n",
    "for query in reqs_test:\n",
    "    queryId = query.getIdentifiant()\n",
    "    query.setTexte(reqs[queryId])\n",
    "    query.setDocspertinents(list(pertiReq[queryId]))"
   ]
  },
  {
   "cell_type": "code",
   "execution_count": 111,
   "metadata": {},
   "outputs": [
    {
     "name": "stdout",
     "output_type": "stream",
     "text": [
      "[2, 1, 3, 0]\n"
     ]
    }
   ],
   "source": [
    "# IR Model\n",
    "weighter = Weighter1(index, indexInverse)\n",
    "vect = Vectoriel(weighter, True)\n",
    "q = reqs_test[1]\n",
    "q_text = q.getTexte()\n",
    "scores = vect.getScores(q_text)\n",
    "ranking = vect.getRanking(scores) #Liste des docs pertinent dans l'ordre décroissant de pertinence\n",
    "print(ranking)"
   ]
  },
  {
   "cell_type": "code",
   "execution_count": 112,
   "metadata": {},
   "outputs": [
    {
     "data": {
      "text/plain": [
       "1.0"
      ]
     },
     "execution_count": 112,
     "metadata": {},
     "output_type": "execute_result"
    }
   ],
   "source": [
    "#Eval mesure : NGCD\n",
    "k=3 #rang\n",
    "evalMesure = NGCD(k)\n",
    "evalMesure.setQuery(reqs_test[1]) #Query to consider\n",
    "evalMesure.evalQuery(ranking)"
   ]
  },
  {
   "cell_type": "markdown",
   "metadata": {},
   "source": [
    "## 3. Plateforme d'évaluation"
   ]
  },
  {
   "cell_type": "code",
   "execution_count": 138,
   "metadata": {},
   "outputs": [],
   "source": [
    "class EvalIRModel():\n",
    "    \n",
    "    def __init__(self, irModels, evalMesures, indexerSimple, querys):\n",
    "        \n",
    "        self.irModels = irModels #(Liste)Objets IRModel (Vectoriel, Okapi, ... + Weighter associé)\n",
    "        self.evalMesures = evalMesures #(Liste)Objets EvalMesure\n",
    "        self.indexerSimple = indexerSimple #Collection de docs parsés + index, indexInv.\n",
    "        self.querys = querys #liste d'objets requêtes parsées (avec docs pertinents)\n",
    "        \n",
    "    def evaluationSimple(self,idIRModel, idEvalMesure):\n",
    "        model, mesure = self.irModels[idIRModel], self.evalMesures[idEvalMesure]\n",
    "        evals = []\n",
    "        for idq,query in self.querys.items():\n",
    "            mesure.setQuery(query)\n",
    "            query_text = query.getTexte()\n",
    "            scores = model.getScores(query_text)\n",
    "            ranking = model.getRanking(scores)\n",
    "            evals.append(mesure.evalQuery(ranking))\n",
    "        return evals\n",
    "            \n",
    "    def getQuerys(self):\n",
    "        return self.querys\n",
    "    \n",
    "    def getIRModels(self):\n",
    "        return self.irModels\n",
    "    \n",
    "    def getEvalMesures(self):\n",
    "        return self.evalMesures\n",
    "    "
   ]
  },
  {
   "cell_type": "code",
   "execution_count": null,
   "metadata": {},
   "outputs": [],
   "source": [
    "\"\"\"Main\"\"\"\n",
    "\n",
    "docs_path = #to complete\n",
    "querys_path = #to complete\n",
    "querys_relevance = #to complete\n",
    "\n",
    "#Parse + indexation Docs\n",
    "collec1 = Parser.parseCacmCisi('cacmShort-good.txt')\n",
    "indexer=IndexerSimple(collec1)\n",
    "indexer.indexation()\n",
    "\n",
    "#Parse querys\n",
    "req1 = ParserQuery.parseQRY('cacm.qry')\n",
    "querys = ParserQuery.parseREL('cacm.rel',req1)\n",
    "\n",
    "#Init irModel\n",
    "index = indexer.getIndex()\n",
    "indexInverse = indexer.getIndexInv()\n",
    "weighter = Weighter1(index, indexInverse)\n",
    "irModel = Vectoriel(weighter, True)\n",
    "\n",
    "\n",
    "\n"
   ]
  },
  {
   "cell_type": "markdown",
   "metadata": {},
   "source": [
    "## Test EvalIRModel (CACM)"
   ]
  },
  {
   "cell_type": "code",
   "execution_count": 116,
   "metadata": {},
   "outputs": [],
   "source": [
    "#Parse + indexation Docs\n",
    "collecCacm = Parser.parseCacmCisi('cacm.txt')\n",
    "indexer=IndexerSimple(collecCacm)\n",
    "indexer.indexation()\n",
    "index, indexInverse = indexer.getIndex(), indexer.getIndexInv()"
   ]
  },
  {
   "cell_type": "code",
   "execution_count": 117,
   "metadata": {},
   "outputs": [],
   "source": [
    "#Parse querys\n",
    "req1 = ParserQuery.parseQRY('cacm.qry')\n",
    "querys = ParserQuery.parseREL('cacm.rel',req1)"
   ]
  },
  {
   "cell_type": "code",
   "execution_count": 122,
   "metadata": {},
   "outputs": [],
   "source": [
    "#Init irModel\n",
    "index = indexer.getIndex()\n",
    "indexInverse = indexer.getIndexInv()\n",
    "weighter = Weighter1(index, indexInverse)\n",
    "irModel1 = Vectoriel(weighter, True)"
   ]
  },
  {
   "cell_type": "code",
   "execution_count": 123,
   "metadata": {},
   "outputs": [],
   "source": [
    "#Init evaluation modes\n",
    "k=3 #rang\n",
    "evalMesure1 = NGCD(k)"
   ]
  },
  {
   "cell_type": "code",
   "execution_count": 137,
   "metadata": {},
   "outputs": [
    {
     "ename": "NameError",
     "evalue": "name 'evalmesure' is not defined",
     "output_type": "error",
     "traceback": [
      "\u001b[1;31m---------------------------------------------------------------------------\u001b[0m",
      "\u001b[1;31mNameError\u001b[0m                                 Traceback (most recent call last)",
      "\u001b[1;32m<ipython-input-137-1f081cfe4d02>\u001b[0m in \u001b[0;36m<module>\u001b[1;34m\u001b[0m\n\u001b[0;32m      2\u001b[0m \u001b[1;33m\u001b[0m\u001b[0m\n\u001b[0;32m      3\u001b[0m \u001b[0mevalIRModel\u001b[0m \u001b[1;33m=\u001b[0m \u001b[0mEvalIRModel\u001b[0m\u001b[1;33m(\u001b[0m\u001b[1;33m[\u001b[0m\u001b[0mirModel1\u001b[0m\u001b[1;33m]\u001b[0m\u001b[1;33m,\u001b[0m\u001b[1;33m[\u001b[0m\u001b[0mevalMesure1\u001b[0m\u001b[1;33m]\u001b[0m\u001b[1;33m,\u001b[0m\u001b[0mindexer\u001b[0m\u001b[1;33m,\u001b[0m\u001b[0mquerys\u001b[0m\u001b[1;33m)\u001b[0m\u001b[1;33m\u001b[0m\u001b[1;33m\u001b[0m\u001b[0m\n\u001b[1;32m----> 4\u001b[1;33m \u001b[0mevalIRModel\u001b[0m\u001b[1;33m.\u001b[0m\u001b[0mevaluationSimple\u001b[0m\u001b[1;33m(\u001b[0m\u001b[1;36m0\u001b[0m\u001b[1;33m,\u001b[0m\u001b[1;36m0\u001b[0m\u001b[1;33m)\u001b[0m\u001b[1;33m\u001b[0m\u001b[1;33m\u001b[0m\u001b[0m\n\u001b[0m",
      "\u001b[1;32m<ipython-input-136-67a7115eabff>\u001b[0m in \u001b[0;36mevaluationSimple\u001b[1;34m(self, idIRModel, idEvalMesure)\u001b[0m\n\u001b[0;32m     16\u001b[0m             \u001b[0mscores\u001b[0m \u001b[1;33m=\u001b[0m \u001b[0mmodel\u001b[0m\u001b[1;33m.\u001b[0m\u001b[0mgetScores\u001b[0m\u001b[1;33m(\u001b[0m\u001b[0mquery_text\u001b[0m\u001b[1;33m)\u001b[0m\u001b[1;33m\u001b[0m\u001b[1;33m\u001b[0m\u001b[0m\n\u001b[0;32m     17\u001b[0m             \u001b[0mranking\u001b[0m \u001b[1;33m=\u001b[0m \u001b[0mmodel\u001b[0m\u001b[1;33m.\u001b[0m\u001b[0mgetRanking\u001b[0m\u001b[1;33m(\u001b[0m\u001b[0mscores\u001b[0m\u001b[1;33m)\u001b[0m\u001b[1;33m\u001b[0m\u001b[1;33m\u001b[0m\u001b[0m\n\u001b[1;32m---> 18\u001b[1;33m             \u001b[0mevals\u001b[0m\u001b[1;33m.\u001b[0m\u001b[0mappend\u001b[0m\u001b[1;33m(\u001b[0m\u001b[0mevalmesure\u001b[0m\u001b[1;33m.\u001b[0m\u001b[0mevalQuery\u001b[0m\u001b[1;33m(\u001b[0m\u001b[0mranking\u001b[0m\u001b[1;33m)\u001b[0m\u001b[1;33m)\u001b[0m\u001b[1;33m\u001b[0m\u001b[1;33m\u001b[0m\u001b[0m\n\u001b[0m\u001b[0;32m     19\u001b[0m         \u001b[1;32mreturn\u001b[0m \u001b[0mevals\u001b[0m\u001b[1;33m\u001b[0m\u001b[1;33m\u001b[0m\u001b[0m\n\u001b[0;32m     20\u001b[0m \u001b[1;33m\u001b[0m\u001b[0m\n",
      "\u001b[1;31mNameError\u001b[0m: name 'evalmesure' is not defined"
     ]
    }
   ],
   "source": [
    "#EvalIRModel init\n",
    "\n",
    "evalIRModel = EvalIRModel([irModel1],[evalMesure1],indexer,querys)\n",
    "evalIRModel.evaluationSimple(0,0)"
   ]
  },
  {
   "cell_type": "code",
   "execution_count": null,
   "metadata": {},
   "outputs": [],
   "source": []
  }
 ],
 "metadata": {
  "kernelspec": {
   "display_name": "Python 3",
   "language": "python",
   "name": "python3"
  },
  "language_info": {
   "codemirror_mode": {
    "name": "ipython",
    "version": 3
   },
   "file_extension": ".py",
   "mimetype": "text/x-python",
   "name": "python",
   "nbconvert_exporter": "python",
   "pygments_lexer": "ipython3",
   "version": "3.7.3"
  }
 },
 "nbformat": 4,
 "nbformat_minor": 4
}
