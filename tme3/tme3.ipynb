{
 "cells": [
  {
   "cell_type": "code",
   "execution_count": 1,
   "metadata": {},
   "outputs": [],
   "source": [
    "import numpy as np\n",
    "from collections import Counter\n",
    "import porter as p\n",
    "import re\n",
    "from Weighter import Weighter1\n",
    "from IRModel import Vectoriel\n",
    "from Parser import Parser\n",
    "from IndexerSimple import IndexerSimple"
   ]
  },
  {
   "cell_type": "markdown",
   "metadata": {},
   "source": [
    "- Données test (Docs / Requêtes)"
   ]
  },
  {
   "cell_type": "code",
   "execution_count": 2,
   "metadata": {},
   "outputs": [],
   "source": [
    "docs=[\"the new home has been saled on top forecasts\",\n",
    "     \"the home sales rise in july\",\n",
    "     \"there is an increase in home sales in july\",\n",
    "     \"july encounter a new home sales rise\"]\n",
    "\n",
    "reqs = [\"top sales\",\n",
    "       \"sales increase july\",\n",
    "       \"new home\"]\n",
    "\n",
    "stopWords=[\"the\",\"a\",\"an\",\"on\",\"behind\",\"under\",\"there\",\"in\"]\n",
    "\n",
    "index = {}\n",
    "for i in range(len(docs)):\n",
    "    index[i] = dict(Counter(map(p.stem, [word for word in (str.lower(docs[i])).split() if word not in stopWords])))           \n",
    "            \n",
    "indexInverse = {}\n",
    "for numDoc, dico in index.items():\n",
    "    for word, tf in dico.items():\n",
    "        if(word not in indexInverse):\n",
    "            indexInverse[word]= {}\n",
    "        indexInverse[word][numDoc] = tf"
   ]
  },
  {
   "cell_type": "markdown",
   "metadata": {},
   "source": [
    "- Pertinence des requêtes"
   ]
  },
  {
   "cell_type": "code",
   "execution_count": 3,
   "metadata": {},
   "outputs": [],
   "source": [
    "pertiReq = {0:{0},      #doc1 pertinent pour req1\n",
    "           1:{1,2},     #doc2 et 3 pertinent pour req2 (doc2 plus pertinent que doc3)\n",
    "           2:{}}        #aucuns docs pertinents pour req3"
   ]
  },
  {
   "cell_type": "code",
   "execution_count": 4,
   "metadata": {},
   "outputs": [],
   "source": [
    "if 1 in pertiReq[0]:\n",
    "    print(\"hello\")"
   ]
  },
  {
   "cell_type": "markdown",
   "metadata": {},
   "source": [
    "## Exercice 1."
   ]
  },
  {
   "cell_type": "markdown",
   "metadata": {},
   "source": [
    "- modèle booléen"
   ]
  },
  {
   "cell_type": "code",
   "execution_count": 5,
   "metadata": {},
   "outputs": [],
   "source": [
    "def booleen(query):\n",
    "    req = list(np.unique(list(map(p.stem, query.split())))) \n",
    "    #représentation du résultat comme unensemble de documents\n",
    "    res=set(index)\n",
    "    for stem in req:\n",
    "        res=res.intersection(indexInverse[stem])#On récupère l'intersection des documents contenant un mot de la requete\n",
    "    return res"
   ]
  },
  {
   "cell_type": "code",
   "execution_count": 6,
   "metadata": {},
   "outputs": [
    {
     "data": {
      "text/plain": [
       "{2}"
      ]
     },
     "execution_count": 6,
     "metadata": {},
     "output_type": "execute_result"
    }
   ],
   "source": [
    "booleen(reqs[1])"
   ]
  },
  {
   "cell_type": "markdown",
   "metadata": {},
   "source": [
    "- modele vectoriel"
   ]
  },
  {
   "cell_type": "code",
   "execution_count": 7,
   "metadata": {},
   "outputs": [],
   "source": [
    "#modele vectoriel\n",
    "def vect(query):\n",
    "    nbDoc = 4\n",
    "    req = list(np.unique(list(map(p.stem,query.split()))))\n",
    "    res = [indexInverse[i] for i in req]\n",
    "    doc = []\n",
    "    doc_res = np.zeros(nbDoc)\n",
    "    for w in res:\n",
    "        doc.append(set(w.keys()))\n",
    "    for w in doc:\n",
    "        for d in w:\n",
    "            doc_res[d]+=1\n",
    "    return doc_res"
   ]
  },
  {
   "cell_type": "markdown",
   "metadata": {},
   "source": [
    "#### Precision (capacité à ne retourner que des docs pertinents)"
   ]
  },
  {
   "cell_type": "code",
   "execution_count": 8,
   "metadata": {},
   "outputs": [],
   "source": [
    "def preci(idQuery, modele = 0):\n",
    "    if modele == 0:\n",
    "        docs_retournés = booleen(reqs[idQuery])\n",
    "    elif modele == 1:\n",
    "        docs_retournés = vect(reqs[idQuery])\n",
    "    pert = set(pertiReq[idQuery])     #docs jugés pertinents\n",
    "    tp = docs_retournés.intersection(pert)  #True positifs (R & P)\n",
    "    fp = docs_retournés.difference(preci)   #False positifs (R-P)\n",
    "    if len(tp) == 0 & len(fp) == 0:\n",
    "        return 0\n",
    "    return len(tp)/(len(tp)+len(fp))     #mesure de précision"
   ]
  },
  {
   "cell_type": "code",
   "execution_count": 9,
   "metadata": {},
   "outputs": [],
   "source": [
    "def preciRangk(rang,idQuery,score,jugement):\n",
    "    \"\"\" score: dict() -> {idDoc: scoreDoc} dépend du modèle de poids adopté\n",
    "        (trié par score décroissant)\n",
    "        jugement : pertinence des requêtes\"\"\"\n",
    "    k = rang\n",
    "    res = 0\n",
    "    for i in k:\n",
    "        if score[i] in jugement[idQuery]:\n",
    "            res+=1\n",
    "    return res/k"
   ]
  },
  {
   "cell_type": "markdown",
   "metadata": {},
   "source": [
    "#### Rappel (capacité à retourner tous les docs pertinents)"
   ]
  },
  {
   "cell_type": "code",
   "execution_count": 10,
   "metadata": {},
   "outputs": [],
   "source": [
    "def rappel(idQuery, modele = 0):\n",
    "    if modele == 0:\n",
    "        docs_retournés = booleen(reqs[idQuery])\n",
    "    elif modele == 1:\n",
    "        docs_retournés = set(vect(reqs[idQuery]))\n",
    "    pert = set(pertiReq[idQuery])      #docs jugés pertinents\n",
    "    tp = docs_retournés.intersection(pert)    #True positifs (R & P)\n",
    "    fn = pert.difference(docs_retournés)      #False negatifs (P-R)\n",
    "    if len(tp) == 0 & len(fn) == 0:\n",
    "        return 0\n",
    "    return len(tp)/(len(tp)+len(fn))      #mesure de rappel"
   ]
  },
  {
   "cell_type": "code",
   "execution_count": 11,
   "metadata": {},
   "outputs": [],
   "source": [
    "def rappelRangk(rang,idQuery,score,jugement):\n",
    "    \"\"\" score: dict() -> {idDoc: scoreDoc} dépend du modèle de poids adopté\n",
    "        (trié par score décroissant)\n",
    "        jugement : pertinence des requêtes\"\"\"\n",
    "    k = rang\n",
    "    res = 0\n",
    "    for i in k:\n",
    "        if score[i] in jugement[idQuery]:\n",
    "            res+=1\n",
    "    return res/len(jugement[idQuery])"
   ]
  },
  {
   "cell_type": "code",
   "execution_count": 12,
   "metadata": {},
   "outputs": [
    {
     "data": {
      "text/plain": [
       "0"
      ]
     },
     "execution_count": 12,
     "metadata": {},
     "output_type": "execute_result"
    }
   ],
   "source": [
    "rappel(2,1)"
   ]
  },
  {
   "cell_type": "code",
   "execution_count": 13,
   "metadata": {},
   "outputs": [],
   "source": [
    "def fMesure(idQuery, rang):\n",
    "    r = rappel(idQuery)\n",
    "    p = preci(idQuery)\n",
    "    fact1 = 1+rang**2\n",
    "    fact2 = (p*r)/(p*(rang**2)+r)\n",
    "    return fact1*fact2"
   ]
  },
  {
   "cell_type": "markdown",
   "metadata": {},
   "source": [
    "## Exercice 2."
   ]
  },
  {
   "cell_type": "markdown",
   "metadata": {},
   "source": [
    "## 1. Chargement des requêtes et de leur docs pertinents"
   ]
  },
  {
   "cell_type": "code",
   "execution_count": 14,
   "metadata": {},
   "outputs": [],
   "source": [
    "class Query():\n",
    "    def __init__(self, idQuery):\n",
    "        self.identifiant = int(idQuery)\n",
    "        self.texte = \"\"\n",
    "        self.docsPertinents = []\n",
    "     \n",
    "    #GETTERS\n",
    "    def getIdentifiant(self):\n",
    "        return self.identifiant\n",
    "        \n",
    "    def getTexte(self):\n",
    "        return self.texte\n",
    "        \n",
    "    def getDocspertinents(self):\n",
    "        return self.docsPertinents\n",
    "    \n",
    "    # SETTERS\n",
    "    def setTexte(self, texte):\n",
    "        self.texte = texte\n",
    "        \n",
    "    def setDocspertinents(self, docs):\n",
    "        self.docsPertinents = docs\n",
    "        \n",
    "        \n",
    "    # METHODES\n",
    "    def addTexte(self, texte):\n",
    "        self.texte += texte\n",
    "        \n",
    "    def addDocspertinents(self,doc):\n",
    "        self.docsPertinents.append(doc)"
   ]
  },
  {
   "cell_type": "code",
   "execution_count": 15,
   "metadata": {},
   "outputs": [],
   "source": [
    "class ParserQuery():\n",
    "    \n",
    "    def parseQRY(chemin):\n",
    "        \"\"\" \n",
    "        Fonction permettant de parser les fichers QRY (requêtes avec leurs identifiants et leur texte)\n",
    "        \"\"\"\n",
    "        file = open(chemin, 'r') \n",
    "\n",
    "        res = {}\n",
    "        currentI = None\n",
    "        currentBalise = None \n",
    "        currentQuery = None\n",
    "\n",
    "        while True:\n",
    "            #lis une seule ligne\n",
    "            line = file.readline()\n",
    "\n",
    "            #si ligne vide, fin du fichier\n",
    "            if not line:\n",
    "                break\n",
    "\n",
    "            #récupère la ligne sous forme de mots\n",
    "            words=line.split()\n",
    "\n",
    "            #Si la ligne n'est pas vide\n",
    "            if(len(words)>0):\n",
    "                #Test si on est sur une balise et laquelle\n",
    "                if(words[0]==\".I\"):\n",
    "\n",
    "                    if(currentQuery != None):\n",
    "                        #J'enregistre la requete courante avant d'en créer une autre\n",
    "                        res[currentQuery.getIdentifiant()] = currentQuery \n",
    "\n",
    "                    del currentQuery\n",
    "                    currentQuery = Query(words[1])# Création d'une requete avec son identifiant\n",
    "                    currentI = words[1]\n",
    "                    currentBalise = 'I' \n",
    "\n",
    "                elif(words[0]==\".W\"):\n",
    "                    currentBalise='W' #J'indique que je suis danc une balise W\n",
    "                elif(words[0][0]=='.'): \n",
    "                    currentBalise='unknown' #J'indique que je suis dans une balsie inconnue\n",
    "                else: \n",
    "                    #On est dans le contenu d'une balise\n",
    "                    if(currentBalise=='W'):\n",
    "                        currentQuery.addTexte(line)#J'ajoute la ligne au texte de la requête\n",
    "\n",
    "        #J'enregistre la requête courante avant de quitter\n",
    "        res[currentQuery.getIdentifiant()] = currentQuery\n",
    "\n",
    "        file.close()\n",
    "        return res\n",
    "    \n",
    "    \n",
    "    def parseREL(chemin, reqs):\n",
    "        \n",
    "        file = open(chemin, 'r') \n",
    "        \n",
    "        while True:\n",
    "            #lis une seule ligne\n",
    "            line = file.readline()\n",
    "\n",
    "            #si ligne vide, fin du fichier\n",
    "            if not line:\n",
    "                break\n",
    "            words=line.split()\n",
    "            \n",
    "            if int(words[0][0]) == 0:\n",
    "                docPertinent = int(re.split('^0*',words[1])[1])\n",
    "                reqs[int(words[0][1])].addDocspertinents(docPertinent)\n",
    "            else:\n",
    "                docPertinent = int(re.split('^0*',words[1])[1])\n",
    "                reqs[int(words[0])].addDocspertinents(docPertinent)\n",
    "                     \n",
    "        file.close()\n",
    "        return reqs"
   ]
  },
  {
   "cell_type": "code",
   "execution_count": 16,
   "metadata": {},
   "outputs": [],
   "source": [
    "req1 = ParserQuery.parseQRY('cacm.qry')\n",
    "req2 = ParserQuery.parseREL('cacm.rel',req1)"
   ]
  },
  {
   "cell_type": "code",
   "execution_count": 17,
   "metadata": {},
   "outputs": [
    {
     "data": {
      "text/plain": [
       "' What articles exist which deal with TSS (Time Sharing System), an\\noperating system for IBM computers?\\n'"
      ]
     },
     "execution_count": 17,
     "metadata": {},
     "output_type": "execute_result"
    }
   ],
   "source": [
    "req2[1].getTexte()"
   ]
  },
  {
   "cell_type": "markdown",
   "metadata": {},
   "source": [
    "## 2. Métriques"
   ]
  },
  {
   "cell_type": "code",
   "execution_count": 18,
   "metadata": {},
   "outputs": [],
   "source": [
    "class EvalMesure():\n",
    "    \n",
    "    def __init__(self):\n",
    "        self.query = None\n",
    "        \n",
    "    def evalQuery(self,liste):\n",
    "        pass\n",
    "    \n",
    "    #GETTERS\n",
    "    def getQuery(self):\n",
    "        return self.query\n",
    "    \n",
    "    #SETTERS\n",
    "    def setQuery(self, query):\n",
    "        self.query = query"
   ]
  },
  {
   "cell_type": "code",
   "execution_count": 19,
   "metadata": {},
   "outputs": [],
   "source": [
    "class Precision(EvalMesure):\n",
    "    \n",
    "    def __init__(self,k):\n",
    "        \n",
    "        super().__init__()\n",
    "        self.rang = k #rang de précision\n",
    "        \n",
    "    def evalQuery(self, scores):\n",
    "        \"\"\" scores: liste() -> [idDoc] dépend du modèle de poids adopté\n",
    "        (trié par score décroissant)\"\"\"\n",
    "        res = 0\n",
    "        for i in range(self.rang):\n",
    "            if scores[i] in self.query.getDocspertinents():\n",
    "                res+=1\n",
    "        return res/self.rang"
   ]
  },
  {
   "cell_type": "code",
   "execution_count": 20,
   "metadata": {},
   "outputs": [],
   "source": [
    "class Rappel(EvalMesure):\n",
    "    \n",
    "    def __init__(self,k):\n",
    "        \n",
    "        super().__init__()\n",
    "        self.rang = k #rang de rappel\n",
    "        \n",
    "    def evalQuery(self, scores):\n",
    "        \"\"\" scores: liste() -> [idDoc] dépend du modèle de poids adopté\n",
    "        (trié par score décroissant)\"\"\"\n",
    "        res = 0\n",
    "        for i in range(self.rang):\n",
    "            if scores[i] in self.query.getDocspertinents():\n",
    "                res+=1\n",
    "        return res/len(self.query.getDocspertinents())"
   ]
  },
  {
   "cell_type": "code",
   "execution_count": 53,
   "metadata": {},
   "outputs": [],
   "source": [
    "class NGCD(EvalMesure):\n",
    "    \n",
    "    def __init__(self,k):\n",
    "        \n",
    "        super().__init__()\n",
    "        self.rang = k #nombre de résultats à considérer\n",
    "        \n",
    "    def evalQuery(self, scores):\n",
    "        \"\"\" scores: liste() -> [idDoc] dépend du modèle de poids adopté\n",
    "        (trié par score décroissant)\"\"\"\n",
    "        \n",
    "        #relevance of returned docs above\n",
    "        rel = [1 if d in self.query.getDocspertinents() else 0 for d in scores]\n",
    "        nbRel = len(self.query.getDocspertinents()) #Nombre de dcos pertinents pour la requete\n",
    "        #import ipdb; ipdb.set_trace()\n",
    "        if nbRel < self.rang:\n",
    "            r = nbRel\n",
    "        else:\n",
    "            r = self.rang\n",
    "        \n",
    "        #sorted relevance rank\n",
    "        sorted_rel = np.sort(rel, axis=0)[::-1]\n",
    "        metric = np.log([2+i for i in range(r)])\n",
    "        dcg = np.sum(rel[:r]/metric)\n",
    "        dcg_max = np.sum(sorted_rel[:r]/metric)\n",
    "        \n",
    "        if not dcg_max:\n",
    "            return 0\n",
    "        else:\n",
    "            return dcg/dcg_max"
   ]
  },
  {
   "cell_type": "code",
   "execution_count": 22,
   "metadata": {},
   "outputs": [],
   "source": [
    "class AP(EvalMesure):\n",
    "    \"\"\"Avg precision\"\"\"\n",
    "    \n",
    "    def __init__(self,k):\n",
    "        \n",
    "        super().__init__()\n",
    "        self.rang = k\n",
    "        \n",
    "    def evalQuery(self, scores):\n",
    "        \"\"\" calcul de la preci moyenne\"\"\"\n",
    "        return np.mean([self.preci(scores,k) for k in range(self.rang)])\n",
    "     \n",
    "    def preci(self, scores, k):\n",
    "        \"\"\" scores: liste() -> [idDoc] dépend du modèle de poids adopté\n",
    "        (trié par score décroissant)\"\"\"\n",
    "        res = 0\n",
    "        for i in range(k):\n",
    "            if scores[i] in self.query.getDocspertinents():\n",
    "                res+=1\n",
    "        return res/k"
   ]
  },
  {
   "cell_type": "markdown",
   "metadata": {},
   "source": [
    "## Test"
   ]
  },
  {
   "cell_type": "code",
   "execution_count": 23,
   "metadata": {},
   "outputs": [
    {
     "name": "stdout",
     "output_type": "stream",
     "text": [
      "['top sales', 'sales increase july', 'new home']\n",
      "['the new home has been saled on top forecasts', 'the home sales rise in july', 'there is an increase in home sales in july', 'july encounter a new home sales rise']\n",
      "{0: {0}, 1: {1, 2}, 2: {}}\n"
     ]
    }
   ],
   "source": [
    "print(reqs)\n",
    "print(docs)\n",
    "print(pertiReq)"
   ]
  },
  {
   "cell_type": "code",
   "execution_count": 24,
   "metadata": {},
   "outputs": [],
   "source": [
    "#Test query\n",
    "reqs_test = [Query(idQuery, ) for idQuery, docsPerti in pertiReq.items()]\n",
    "for query in reqs_test:\n",
    "    queryId = query.getIdentifiant()\n",
    "    query.setTexte(reqs[queryId])\n",
    "    query.setDocspertinents(list(pertiReq[queryId]))"
   ]
  },
  {
   "cell_type": "code",
   "execution_count": 25,
   "metadata": {},
   "outputs": [
    {
     "name": "stdout",
     "output_type": "stream",
     "text": [
      "[2, 1, 3, 0]\n"
     ]
    }
   ],
   "source": [
    "# IR Model\n",
    "weighter = Weighter1(index, indexInverse)\n",
    "vect = Vectoriel(weighter, True)\n",
    "q = reqs_test[1]\n",
    "q_text = q.getTexte()\n",
    "scores = vect.getScores(q_text)\n",
    "ranking = vect.getRanking(scores) #Liste des docs pertinent dans l'ordre décroissant de pertinence\n",
    "print(ranking)"
   ]
  },
  {
   "cell_type": "code",
   "execution_count": 26,
   "metadata": {},
   "outputs": [
    {
     "name": "stdout",
     "output_type": "stream",
     "text": [
      "> \u001b[1;32m<ipython-input-21-c5caa26b91df>\u001b[0m(16)\u001b[0;36mevalQuery\u001b[1;34m()\u001b[0m\n",
      "\u001b[1;32m     15 \u001b[1;33m        \u001b[1;32mimport\u001b[0m \u001b[0mipdb\u001b[0m\u001b[1;33m;\u001b[0m \u001b[0mipdb\u001b[0m\u001b[1;33m.\u001b[0m\u001b[0mset_trace\u001b[0m\u001b[1;33m(\u001b[0m\u001b[1;33m)\u001b[0m\u001b[1;33m\u001b[0m\u001b[1;33m\u001b[0m\u001b[0m\n",
      "\u001b[0m\u001b[1;32m---> 16 \u001b[1;33m        \u001b[1;32mif\u001b[0m \u001b[0mnbRel\u001b[0m \u001b[1;33m<\u001b[0m \u001b[0mself\u001b[0m\u001b[1;33m.\u001b[0m\u001b[0mrang\u001b[0m\u001b[1;33m:\u001b[0m\u001b[1;33m\u001b[0m\u001b[1;33m\u001b[0m\u001b[0m\n",
      "\u001b[0m\u001b[1;32m     17 \u001b[1;33m            \u001b[0mr\u001b[0m \u001b[1;33m=\u001b[0m \u001b[0mnbRel\u001b[0m\u001b[1;33m\u001b[0m\u001b[1;33m\u001b[0m\u001b[0m\n",
      "\u001b[0m\n",
      "ipdb> q\n"
     ]
    },
    {
     "ename": "BdbQuit",
     "evalue": "",
     "output_type": "error",
     "traceback": [
      "\u001b[1;31m---------------------------------------------------------------------------\u001b[0m",
      "\u001b[1;31mBdbQuit\u001b[0m                                   Traceback (most recent call last)",
      "\u001b[1;32m<ipython-input-26-2ba22c6a9898>\u001b[0m in \u001b[0;36m<module>\u001b[1;34m\u001b[0m\n\u001b[0;32m      3\u001b[0m \u001b[0mevalMesure\u001b[0m \u001b[1;33m=\u001b[0m \u001b[0mNGCD\u001b[0m\u001b[1;33m(\u001b[0m\u001b[0mk\u001b[0m\u001b[1;33m)\u001b[0m\u001b[1;33m\u001b[0m\u001b[1;33m\u001b[0m\u001b[0m\n\u001b[0;32m      4\u001b[0m \u001b[0mevalMesure\u001b[0m\u001b[1;33m.\u001b[0m\u001b[0msetQuery\u001b[0m\u001b[1;33m(\u001b[0m\u001b[0mreqs_test\u001b[0m\u001b[1;33m[\u001b[0m\u001b[1;36m1\u001b[0m\u001b[1;33m]\u001b[0m\u001b[1;33m)\u001b[0m \u001b[1;31m#Query to consider\u001b[0m\u001b[1;33m\u001b[0m\u001b[1;33m\u001b[0m\u001b[0m\n\u001b[1;32m----> 5\u001b[1;33m \u001b[0mevalMesure\u001b[0m\u001b[1;33m.\u001b[0m\u001b[0mevalQuery\u001b[0m\u001b[1;33m(\u001b[0m\u001b[0mranking\u001b[0m\u001b[1;33m)\u001b[0m\u001b[1;33m\u001b[0m\u001b[1;33m\u001b[0m\u001b[0m\n\u001b[0m",
      "\u001b[1;32m<ipython-input-21-c5caa26b91df>\u001b[0m in \u001b[0;36mevalQuery\u001b[1;34m(self, scores)\u001b[0m\n\u001b[0;32m     14\u001b[0m         \u001b[0mnbRel\u001b[0m \u001b[1;33m=\u001b[0m \u001b[0mlen\u001b[0m\u001b[1;33m(\u001b[0m\u001b[0mself\u001b[0m\u001b[1;33m.\u001b[0m\u001b[0mquery\u001b[0m\u001b[1;33m.\u001b[0m\u001b[0mgetDocspertinents\u001b[0m\u001b[1;33m(\u001b[0m\u001b[1;33m)\u001b[0m\u001b[1;33m)\u001b[0m \u001b[1;31m#Nombre de dcos pertinents pour la requete\u001b[0m\u001b[1;33m\u001b[0m\u001b[1;33m\u001b[0m\u001b[0m\n\u001b[0;32m     15\u001b[0m         \u001b[1;32mimport\u001b[0m \u001b[0mipdb\u001b[0m\u001b[1;33m;\u001b[0m \u001b[0mipdb\u001b[0m\u001b[1;33m.\u001b[0m\u001b[0mset_trace\u001b[0m\u001b[1;33m(\u001b[0m\u001b[1;33m)\u001b[0m\u001b[1;33m\u001b[0m\u001b[1;33m\u001b[0m\u001b[0m\n\u001b[1;32m---> 16\u001b[1;33m         \u001b[1;32mif\u001b[0m \u001b[0mnbRel\u001b[0m \u001b[1;33m<\u001b[0m \u001b[0mself\u001b[0m\u001b[1;33m.\u001b[0m\u001b[0mrang\u001b[0m\u001b[1;33m:\u001b[0m\u001b[1;33m\u001b[0m\u001b[1;33m\u001b[0m\u001b[0m\n\u001b[0m\u001b[0;32m     17\u001b[0m             \u001b[0mr\u001b[0m \u001b[1;33m=\u001b[0m \u001b[0mnbRel\u001b[0m\u001b[1;33m\u001b[0m\u001b[1;33m\u001b[0m\u001b[0m\n\u001b[0;32m     18\u001b[0m         \u001b[1;32melse\u001b[0m\u001b[1;33m:\u001b[0m\u001b[1;33m\u001b[0m\u001b[1;33m\u001b[0m\u001b[0m\n",
      "\u001b[1;32m<ipython-input-21-c5caa26b91df>\u001b[0m in \u001b[0;36mevalQuery\u001b[1;34m(self, scores)\u001b[0m\n\u001b[0;32m     14\u001b[0m         \u001b[0mnbRel\u001b[0m \u001b[1;33m=\u001b[0m \u001b[0mlen\u001b[0m\u001b[1;33m(\u001b[0m\u001b[0mself\u001b[0m\u001b[1;33m.\u001b[0m\u001b[0mquery\u001b[0m\u001b[1;33m.\u001b[0m\u001b[0mgetDocspertinents\u001b[0m\u001b[1;33m(\u001b[0m\u001b[1;33m)\u001b[0m\u001b[1;33m)\u001b[0m \u001b[1;31m#Nombre de dcos pertinents pour la requete\u001b[0m\u001b[1;33m\u001b[0m\u001b[1;33m\u001b[0m\u001b[0m\n\u001b[0;32m     15\u001b[0m         \u001b[1;32mimport\u001b[0m \u001b[0mipdb\u001b[0m\u001b[1;33m;\u001b[0m \u001b[0mipdb\u001b[0m\u001b[1;33m.\u001b[0m\u001b[0mset_trace\u001b[0m\u001b[1;33m(\u001b[0m\u001b[1;33m)\u001b[0m\u001b[1;33m\u001b[0m\u001b[1;33m\u001b[0m\u001b[0m\n\u001b[1;32m---> 16\u001b[1;33m         \u001b[1;32mif\u001b[0m \u001b[0mnbRel\u001b[0m \u001b[1;33m<\u001b[0m \u001b[0mself\u001b[0m\u001b[1;33m.\u001b[0m\u001b[0mrang\u001b[0m\u001b[1;33m:\u001b[0m\u001b[1;33m\u001b[0m\u001b[1;33m\u001b[0m\u001b[0m\n\u001b[0m\u001b[0;32m     17\u001b[0m             \u001b[0mr\u001b[0m \u001b[1;33m=\u001b[0m \u001b[0mnbRel\u001b[0m\u001b[1;33m\u001b[0m\u001b[1;33m\u001b[0m\u001b[0m\n\u001b[0;32m     18\u001b[0m         \u001b[1;32melse\u001b[0m\u001b[1;33m:\u001b[0m\u001b[1;33m\u001b[0m\u001b[1;33m\u001b[0m\u001b[0m\n",
      "\u001b[1;32m~\\Anaconda3\\lib\\bdb.py\u001b[0m in \u001b[0;36mtrace_dispatch\u001b[1;34m(self, frame, event, arg)\u001b[0m\n\u001b[0;32m     86\u001b[0m             \u001b[1;32mreturn\u001b[0m \u001b[1;31m# None\u001b[0m\u001b[1;33m\u001b[0m\u001b[1;33m\u001b[0m\u001b[0m\n\u001b[0;32m     87\u001b[0m         \u001b[1;32mif\u001b[0m \u001b[0mevent\u001b[0m \u001b[1;33m==\u001b[0m \u001b[1;34m'line'\u001b[0m\u001b[1;33m:\u001b[0m\u001b[1;33m\u001b[0m\u001b[1;33m\u001b[0m\u001b[0m\n\u001b[1;32m---> 88\u001b[1;33m             \u001b[1;32mreturn\u001b[0m \u001b[0mself\u001b[0m\u001b[1;33m.\u001b[0m\u001b[0mdispatch_line\u001b[0m\u001b[1;33m(\u001b[0m\u001b[0mframe\u001b[0m\u001b[1;33m)\u001b[0m\u001b[1;33m\u001b[0m\u001b[1;33m\u001b[0m\u001b[0m\n\u001b[0m\u001b[0;32m     89\u001b[0m         \u001b[1;32mif\u001b[0m \u001b[0mevent\u001b[0m \u001b[1;33m==\u001b[0m \u001b[1;34m'call'\u001b[0m\u001b[1;33m:\u001b[0m\u001b[1;33m\u001b[0m\u001b[1;33m\u001b[0m\u001b[0m\n\u001b[0;32m     90\u001b[0m             \u001b[1;32mreturn\u001b[0m \u001b[0mself\u001b[0m\u001b[1;33m.\u001b[0m\u001b[0mdispatch_call\u001b[0m\u001b[1;33m(\u001b[0m\u001b[0mframe\u001b[0m\u001b[1;33m,\u001b[0m \u001b[0marg\u001b[0m\u001b[1;33m)\u001b[0m\u001b[1;33m\u001b[0m\u001b[1;33m\u001b[0m\u001b[0m\n",
      "\u001b[1;32m~\\Anaconda3\\lib\\bdb.py\u001b[0m in \u001b[0;36mdispatch_line\u001b[1;34m(self, frame)\u001b[0m\n\u001b[0;32m    111\u001b[0m         \u001b[1;32mif\u001b[0m \u001b[0mself\u001b[0m\u001b[1;33m.\u001b[0m\u001b[0mstop_here\u001b[0m\u001b[1;33m(\u001b[0m\u001b[0mframe\u001b[0m\u001b[1;33m)\u001b[0m \u001b[1;32mor\u001b[0m \u001b[0mself\u001b[0m\u001b[1;33m.\u001b[0m\u001b[0mbreak_here\u001b[0m\u001b[1;33m(\u001b[0m\u001b[0mframe\u001b[0m\u001b[1;33m)\u001b[0m\u001b[1;33m:\u001b[0m\u001b[1;33m\u001b[0m\u001b[1;33m\u001b[0m\u001b[0m\n\u001b[0;32m    112\u001b[0m             \u001b[0mself\u001b[0m\u001b[1;33m.\u001b[0m\u001b[0muser_line\u001b[0m\u001b[1;33m(\u001b[0m\u001b[0mframe\u001b[0m\u001b[1;33m)\u001b[0m\u001b[1;33m\u001b[0m\u001b[1;33m\u001b[0m\u001b[0m\n\u001b[1;32m--> 113\u001b[1;33m             \u001b[1;32mif\u001b[0m \u001b[0mself\u001b[0m\u001b[1;33m.\u001b[0m\u001b[0mquitting\u001b[0m\u001b[1;33m:\u001b[0m \u001b[1;32mraise\u001b[0m \u001b[0mBdbQuit\u001b[0m\u001b[1;33m\u001b[0m\u001b[1;33m\u001b[0m\u001b[0m\n\u001b[0m\u001b[0;32m    114\u001b[0m         \u001b[1;32mreturn\u001b[0m \u001b[0mself\u001b[0m\u001b[1;33m.\u001b[0m\u001b[0mtrace_dispatch\u001b[0m\u001b[1;33m\u001b[0m\u001b[1;33m\u001b[0m\u001b[0m\n\u001b[0;32m    115\u001b[0m \u001b[1;33m\u001b[0m\u001b[0m\n",
      "\u001b[1;31mBdbQuit\u001b[0m: "
     ]
    }
   ],
   "source": [
    "#Eval mesure : NGCD\n",
    "k=3 #rang\n",
    "evalMesure = NGCD(k)\n",
    "evalMesure.setQuery(reqs_test[1]) #Query to consider\n",
    "evalMesure.evalQuery(ranking)"
   ]
  },
  {
   "cell_type": "markdown",
   "metadata": {},
   "source": [
    "## 3. Plateforme d'évaluation"
   ]
  },
  {
   "cell_type": "code",
   "execution_count": 57,
   "metadata": {},
   "outputs": [],
   "source": [
    "class EvalIRModel():\n",
    "    \n",
    "    def __init__(self, path):\n",
    "        \n",
    "        self.irModels = [] #(Liste)Objets IRModel (Vectoriel, Okapi, modèle de langue ...)\n",
    "        self.evalMesures = [] #(Liste)Objets EvalMesure\n",
    "        self.index = None #index des docs\n",
    "        self.indexInverse = None #index inverse des docs\n",
    "        self.querys = None #liste d'objets requêtes parsées (avec docs pertinents)\n",
    "        self.path = path #cacm ou cisi\n",
    "        \n",
    "    def evaluationSimple(self,idIRModel, idEvalMesure):\n",
    "        model, mesure = self.irModels[idIRModel], self.evalMesures[idEvalMesure]\n",
    "        evals = []\n",
    "        for idq,query in self.querys.items():\n",
    "            print(idq)\n",
    "            mesure.setQuery(query)\n",
    "            query_text = query.getTexte()\n",
    "            scores = model.getScores(query_text)\n",
    "            ranking = model.getRanking(scores)\n",
    "            print(f\"ranking -> {len(ranking)}\")\n",
    "            evals.append(mesure.evalQuery(ranking))\n",
    "            print(\"____________________\")\n",
    "        return evals\n",
    "    \n",
    "    def evaluationQuery(self,idIRModel, idEvalMesure, idQuery):\n",
    "        model, mesure, query = self.irModels[idIRModel], self.evalMesures[idEvalMesure], self.querys[idQuery]\n",
    "        mesure.setQuery(query)\n",
    "        query_text = query.getTexte()\n",
    "        scores = model.getScores(query_text)\n",
    "        ranking = model.getRanking(scores)\n",
    "        import ipdb; ipdb.set_trace()\n",
    "        evaluation = mesure.evalQuery(ranking)\n",
    "        return evaluation\n",
    "    \n",
    "    def parseQuery(self):\n",
    "        \"\"\"Parse querys\"\"\"\n",
    "        reqPath = self.path+'.qry'\n",
    "        relPath = self.path+'.rel'\n",
    "        r = ParserQuery.parseQRY('cacm.qry')\n",
    "        querys = ParserQuery.parseREL('cacm.rel',r)\n",
    "        self.querys = querys\n",
    "        \n",
    "    def parseDoc(self):\n",
    "        \"\"\" Parse and index docs collection\"\"\"\n",
    "        docsPath = self.path+'.txt'\n",
    "        collecCacm = Parser.parseCacmCisi('cacm.txt')\n",
    "        indexer=IndexerSimple(collecCacm)\n",
    "        indexer.indexation()\n",
    "        self.index, self.indexInverse = indexer.getIndex(), indexer.getIndexInv()\n",
    "        \n",
    "    def addModels(self, models):\n",
    "        if type(models) == list:\n",
    "            for m in models:\n",
    "                self.irModels.append(m) \n",
    "        else:\n",
    "            self.irModels.append(models)\n",
    "            \n",
    "    def addMesures(self, mesures):\n",
    "        if type(mesures) == list:\n",
    "            for m in mesures:\n",
    "                self.evalMesures.append(m)\n",
    "        else:\n",
    "            self.evalMesures.append(mesures)\n",
    "            \n",
    "    def getQuerys(self):\n",
    "        return self.querys\n",
    "    \n",
    "    def getIRModels(self):\n",
    "        return self.irModels\n",
    "    \n",
    "    def getEvalMesures(self):\n",
    "        return self.evalMesures\n",
    "    \n",
    "    def getIndex(self):\n",
    "        return self.index\n",
    "    \n",
    "    def getIndexinverse(self):\n",
    "        return self.indexInverse\n",
    "    "
   ]
  },
  {
   "cell_type": "markdown",
   "metadata": {},
   "source": [
    "## Test EvalIRModel (CACM)"
   ]
  },
  {
   "cell_type": "code",
   "execution_count": 58,
   "metadata": {},
   "outputs": [],
   "source": [
    "path = 'cacm'\n",
    "\n",
    "#Init evaluation\n",
    "evalIRModel = EvalIRModel(path)\n",
    "\n",
    "#Query/ Docs parsing (index creation)\n",
    "evalIRModel.parseQuery()\n",
    "evalIRModel.parseDoc()\n",
    "\n",
    "#IRModels\n",
    "#Index, IndexeInv\n",
    "indexCacm, indexInvCacm = evalIRModel.getIndex(), evalIRModel.getIndexinverse()\n",
    "weighter = Weighter1(indexCacm, indexInvCacm)\n",
    "irModel1 = Vectoriel(weighter, True)\n",
    "evalIRModel.addModels(irModel1)\n",
    "\n",
    "# Eval Mesure\n",
    "k=3 #rang\n",
    "evalMesure1 = NGCD(k)\n",
    "evalIRModel.addMesures(evalMesure1)"
   ]
  },
  {
   "cell_type": "code",
   "execution_count": 59,
   "metadata": {},
   "outputs": [
    {
     "name": "stdout",
     "output_type": "stream",
     "text": [
      "1\n",
      "ranking -> 1079\n",
      "____________________\n",
      "2\n",
      "ranking -> 533\n",
      "____________________\n",
      "3\n",
      "ranking -> 964\n",
      "____________________\n",
      "4\n",
      "ranking -> 1763\n",
      "____________________\n",
      "5\n",
      "ranking -> 1923\n",
      "____________________\n",
      "6\n",
      "ranking -> 947\n",
      "____________________\n",
      "7\n",
      "ranking -> 3137\n",
      "____________________\n",
      "8\n",
      "ranking -> 1295\n",
      "____________________\n",
      "9\n",
      "ranking -> 955\n",
      "____________________\n",
      "10\n",
      "ranking -> 1913\n",
      "____________________\n",
      "11\n",
      "ranking -> 0\n"
     ]
    },
    {
     "ename": "ValueError",
     "evalue": "operands could not be broadcast together with shapes (0,) (3,) ",
     "output_type": "error",
     "traceback": [
      "\u001b[1;31m---------------------------------------------------------------------------\u001b[0m",
      "\u001b[1;31mValueError\u001b[0m                                Traceback (most recent call last)",
      "\u001b[1;32m<ipython-input-59-86dc28aa4c0a>\u001b[0m in \u001b[0;36m<module>\u001b[1;34m\u001b[0m\n\u001b[0;32m      1\u001b[0m \u001b[1;31m# Evaluation\u001b[0m\u001b[1;33m\u001b[0m\u001b[1;33m\u001b[0m\u001b[1;33m\u001b[0m\u001b[0m\n\u001b[1;32m----> 2\u001b[1;33m \u001b[0mevalIRModel\u001b[0m\u001b[1;33m.\u001b[0m\u001b[0mevaluationSimple\u001b[0m\u001b[1;33m(\u001b[0m\u001b[1;36m0\u001b[0m\u001b[1;33m,\u001b[0m\u001b[1;36m0\u001b[0m\u001b[1;33m)\u001b[0m\u001b[1;33m\u001b[0m\u001b[1;33m\u001b[0m\u001b[0m\n\u001b[0m",
      "\u001b[1;32m<ipython-input-57-ee9073ae3928>\u001b[0m in \u001b[0;36mevaluationSimple\u001b[1;34m(self, idIRModel, idEvalMesure)\u001b[0m\n\u001b[0;32m     20\u001b[0m             \u001b[0mranking\u001b[0m \u001b[1;33m=\u001b[0m \u001b[0mmodel\u001b[0m\u001b[1;33m.\u001b[0m\u001b[0mgetRanking\u001b[0m\u001b[1;33m(\u001b[0m\u001b[0mscores\u001b[0m\u001b[1;33m)\u001b[0m\u001b[1;33m\u001b[0m\u001b[1;33m\u001b[0m\u001b[0m\n\u001b[0;32m     21\u001b[0m             \u001b[0mprint\u001b[0m\u001b[1;33m(\u001b[0m\u001b[1;34mf\"ranking -> {len(ranking)}\"\u001b[0m\u001b[1;33m)\u001b[0m\u001b[1;33m\u001b[0m\u001b[1;33m\u001b[0m\u001b[0m\n\u001b[1;32m---> 22\u001b[1;33m             \u001b[0mevals\u001b[0m\u001b[1;33m.\u001b[0m\u001b[0mappend\u001b[0m\u001b[1;33m(\u001b[0m\u001b[0mmesure\u001b[0m\u001b[1;33m.\u001b[0m\u001b[0mevalQuery\u001b[0m\u001b[1;33m(\u001b[0m\u001b[0mranking\u001b[0m\u001b[1;33m)\u001b[0m\u001b[1;33m)\u001b[0m\u001b[1;33m\u001b[0m\u001b[1;33m\u001b[0m\u001b[0m\n\u001b[0m\u001b[0;32m     23\u001b[0m             \u001b[0mprint\u001b[0m\u001b[1;33m(\u001b[0m\u001b[1;34m\"____________________\"\u001b[0m\u001b[1;33m)\u001b[0m\u001b[1;33m\u001b[0m\u001b[1;33m\u001b[0m\u001b[0m\n\u001b[0;32m     24\u001b[0m         \u001b[1;32mreturn\u001b[0m \u001b[0mevals\u001b[0m\u001b[1;33m\u001b[0m\u001b[1;33m\u001b[0m\u001b[0m\n",
      "\u001b[1;32m<ipython-input-53-69eb840c785a>\u001b[0m in \u001b[0;36mevalQuery\u001b[1;34m(self, scores)\u001b[0m\n\u001b[0;32m     22\u001b[0m         \u001b[0msorted_rel\u001b[0m \u001b[1;33m=\u001b[0m \u001b[0mnp\u001b[0m\u001b[1;33m.\u001b[0m\u001b[0msort\u001b[0m\u001b[1;33m(\u001b[0m\u001b[0mrel\u001b[0m\u001b[1;33m,\u001b[0m \u001b[0maxis\u001b[0m\u001b[1;33m=\u001b[0m\u001b[1;36m0\u001b[0m\u001b[1;33m)\u001b[0m\u001b[1;33m[\u001b[0m\u001b[1;33m:\u001b[0m\u001b[1;33m:\u001b[0m\u001b[1;33m-\u001b[0m\u001b[1;36m1\u001b[0m\u001b[1;33m]\u001b[0m\u001b[1;33m\u001b[0m\u001b[1;33m\u001b[0m\u001b[0m\n\u001b[0;32m     23\u001b[0m         \u001b[0mmetric\u001b[0m \u001b[1;33m=\u001b[0m \u001b[0mnp\u001b[0m\u001b[1;33m.\u001b[0m\u001b[0mlog\u001b[0m\u001b[1;33m(\u001b[0m\u001b[1;33m[\u001b[0m\u001b[1;36m2\u001b[0m\u001b[1;33m+\u001b[0m\u001b[0mi\u001b[0m \u001b[1;32mfor\u001b[0m \u001b[0mi\u001b[0m \u001b[1;32min\u001b[0m \u001b[0mrange\u001b[0m\u001b[1;33m(\u001b[0m\u001b[0mr\u001b[0m\u001b[1;33m)\u001b[0m\u001b[1;33m]\u001b[0m\u001b[1;33m)\u001b[0m\u001b[1;33m\u001b[0m\u001b[1;33m\u001b[0m\u001b[0m\n\u001b[1;32m---> 24\u001b[1;33m         \u001b[0mdcg\u001b[0m \u001b[1;33m=\u001b[0m \u001b[0mnp\u001b[0m\u001b[1;33m.\u001b[0m\u001b[0msum\u001b[0m\u001b[1;33m(\u001b[0m\u001b[0mrel\u001b[0m\u001b[1;33m[\u001b[0m\u001b[1;33m:\u001b[0m\u001b[0mr\u001b[0m\u001b[1;33m]\u001b[0m\u001b[1;33m/\u001b[0m\u001b[0mmetric\u001b[0m\u001b[1;33m)\u001b[0m\u001b[1;33m\u001b[0m\u001b[1;33m\u001b[0m\u001b[0m\n\u001b[0m\u001b[0;32m     25\u001b[0m         \u001b[0mdcg_max\u001b[0m \u001b[1;33m=\u001b[0m \u001b[0mnp\u001b[0m\u001b[1;33m.\u001b[0m\u001b[0msum\u001b[0m\u001b[1;33m(\u001b[0m\u001b[0msorted_rel\u001b[0m\u001b[1;33m[\u001b[0m\u001b[1;33m:\u001b[0m\u001b[0mr\u001b[0m\u001b[1;33m]\u001b[0m\u001b[1;33m/\u001b[0m\u001b[0mmetric\u001b[0m\u001b[1;33m)\u001b[0m\u001b[1;33m\u001b[0m\u001b[1;33m\u001b[0m\u001b[0m\n\u001b[0;32m     26\u001b[0m \u001b[1;33m\u001b[0m\u001b[0m\n",
      "\u001b[1;31mValueError\u001b[0m: operands could not be broadcast together with shapes (0,) (3,) "
     ]
    }
   ],
   "source": [
    "# Evaluation \n",
    "evalIRModel.evaluationSimple(0,0)"
   ]
  },
  {
   "cell_type": "code",
   "execution_count": 49,
   "metadata": {},
   "outputs": [
    {
     "data": {
      "text/plain": [
       "[1043,\n",
       " 1188,\n",
       " 1306,\n",
       " 1358,\n",
       " 1396,\n",
       " 1491,\n",
       " 1923,\n",
       " 2246,\n",
       " 2316,\n",
       " 2527,\n",
       " 2699,\n",
       " 2710,\n",
       " 2715,\n",
       " 2716,\n",
       " 2906,\n",
       " 2923,\n",
       " 2956,\n",
       " 3073,\n",
       " 3150]"
      ]
     },
     "execution_count": 49,
     "metadata": {},
     "output_type": "execute_result"
    }
   ],
   "source": [
    "querys = evalIRModel.getQuerys()\n",
    "querys[11].getDocspertinents()"
   ]
  },
  {
   "cell_type": "code",
   "execution_count": 50,
   "metadata": {},
   "outputs": [
    {
     "name": "stdout",
     "output_type": "stream",
     "text": [
      "> \u001b[1;32m<ipython-input-47-5748789cfa90>\u001b[0m(31)\u001b[0;36mevaluationQuery\u001b[1;34m()\u001b[0m\n",
      "\u001b[1;32m     30 \u001b[1;33m        \u001b[1;32mimport\u001b[0m \u001b[0mipdb\u001b[0m\u001b[1;33m;\u001b[0m \u001b[0mipdb\u001b[0m\u001b[1;33m.\u001b[0m\u001b[0mset_trace\u001b[0m\u001b[1;33m(\u001b[0m\u001b[1;33m)\u001b[0m\u001b[1;33m\u001b[0m\u001b[1;33m\u001b[0m\u001b[0m\n",
      "\u001b[0m\u001b[1;32m---> 31 \u001b[1;33m        \u001b[0mevaluation\u001b[0m \u001b[1;33m=\u001b[0m \u001b[0mmesure\u001b[0m\u001b[1;33m.\u001b[0m\u001b[0mevalQuery\u001b[0m\u001b[1;33m(\u001b[0m\u001b[0mranking\u001b[0m\u001b[1;33m)\u001b[0m\u001b[1;33m\u001b[0m\u001b[1;33m\u001b[0m\u001b[0m\n",
      "\u001b[0m\u001b[1;32m     32 \u001b[1;33m        \u001b[1;32mreturn\u001b[0m \u001b[0mevaluation\u001b[0m\u001b[1;33m\u001b[0m\u001b[1;33m\u001b[0m\u001b[0m\n",
      "\u001b[0m\n",
      "ipdb> ranking\n",
      "[]\n",
      "ipdb> scores\n",
      "{}\n",
      "ipdb> query\n",
      "<__main__.Query object at 0x000002A834F0B4E0>\n",
      "ipdb> query_text\n",
      "' SETL, Very High Level Languages\\n'\n",
      "ipdb> q\n"
     ]
    },
    {
     "ename": "BdbQuit",
     "evalue": "",
     "output_type": "error",
     "traceback": [
      "\u001b[1;31m---------------------------------------------------------------------------\u001b[0m",
      "\u001b[1;31mBdbQuit\u001b[0m                                   Traceback (most recent call last)",
      "\u001b[1;32m<ipython-input-50-931da8e5f62a>\u001b[0m in \u001b[0;36m<module>\u001b[1;34m\u001b[0m\n\u001b[0;32m      1\u001b[0m \u001b[1;31m# eval Query\u001b[0m\u001b[1;33m\u001b[0m\u001b[1;33m\u001b[0m\u001b[1;33m\u001b[0m\u001b[0m\n\u001b[1;32m----> 2\u001b[1;33m \u001b[0mevalIRModel\u001b[0m\u001b[1;33m.\u001b[0m\u001b[0mevaluationQuery\u001b[0m\u001b[1;33m(\u001b[0m\u001b[1;36m0\u001b[0m\u001b[1;33m,\u001b[0m\u001b[1;36m0\u001b[0m\u001b[1;33m,\u001b[0m\u001b[1;36m11\u001b[0m\u001b[1;33m)\u001b[0m\u001b[1;33m\u001b[0m\u001b[1;33m\u001b[0m\u001b[0m\n\u001b[0m",
      "\u001b[1;32m<ipython-input-47-5748789cfa90>\u001b[0m in \u001b[0;36mevaluationQuery\u001b[1;34m(self, idIRModel, idEvalMesure, idQuery)\u001b[0m\n\u001b[0;32m     29\u001b[0m         \u001b[0mranking\u001b[0m \u001b[1;33m=\u001b[0m \u001b[0mmodel\u001b[0m\u001b[1;33m.\u001b[0m\u001b[0mgetRanking\u001b[0m\u001b[1;33m(\u001b[0m\u001b[0mscores\u001b[0m\u001b[1;33m)\u001b[0m\u001b[1;33m\u001b[0m\u001b[1;33m\u001b[0m\u001b[0m\n\u001b[0;32m     30\u001b[0m         \u001b[1;32mimport\u001b[0m \u001b[0mipdb\u001b[0m\u001b[1;33m;\u001b[0m \u001b[0mipdb\u001b[0m\u001b[1;33m.\u001b[0m\u001b[0mset_trace\u001b[0m\u001b[1;33m(\u001b[0m\u001b[1;33m)\u001b[0m\u001b[1;33m\u001b[0m\u001b[1;33m\u001b[0m\u001b[0m\n\u001b[1;32m---> 31\u001b[1;33m         \u001b[0mevaluation\u001b[0m \u001b[1;33m=\u001b[0m \u001b[0mmesure\u001b[0m\u001b[1;33m.\u001b[0m\u001b[0mevalQuery\u001b[0m\u001b[1;33m(\u001b[0m\u001b[0mranking\u001b[0m\u001b[1;33m)\u001b[0m\u001b[1;33m\u001b[0m\u001b[1;33m\u001b[0m\u001b[0m\n\u001b[0m\u001b[0;32m     32\u001b[0m         \u001b[1;32mreturn\u001b[0m \u001b[0mevaluation\u001b[0m\u001b[1;33m\u001b[0m\u001b[1;33m\u001b[0m\u001b[0m\n\u001b[0;32m     33\u001b[0m \u001b[1;33m\u001b[0m\u001b[0m\n",
      "\u001b[1;32m<ipython-input-47-5748789cfa90>\u001b[0m in \u001b[0;36mevaluationQuery\u001b[1;34m(self, idIRModel, idEvalMesure, idQuery)\u001b[0m\n\u001b[0;32m     29\u001b[0m         \u001b[0mranking\u001b[0m \u001b[1;33m=\u001b[0m \u001b[0mmodel\u001b[0m\u001b[1;33m.\u001b[0m\u001b[0mgetRanking\u001b[0m\u001b[1;33m(\u001b[0m\u001b[0mscores\u001b[0m\u001b[1;33m)\u001b[0m\u001b[1;33m\u001b[0m\u001b[1;33m\u001b[0m\u001b[0m\n\u001b[0;32m     30\u001b[0m         \u001b[1;32mimport\u001b[0m \u001b[0mipdb\u001b[0m\u001b[1;33m;\u001b[0m \u001b[0mipdb\u001b[0m\u001b[1;33m.\u001b[0m\u001b[0mset_trace\u001b[0m\u001b[1;33m(\u001b[0m\u001b[1;33m)\u001b[0m\u001b[1;33m\u001b[0m\u001b[1;33m\u001b[0m\u001b[0m\n\u001b[1;32m---> 31\u001b[1;33m         \u001b[0mevaluation\u001b[0m \u001b[1;33m=\u001b[0m \u001b[0mmesure\u001b[0m\u001b[1;33m.\u001b[0m\u001b[0mevalQuery\u001b[0m\u001b[1;33m(\u001b[0m\u001b[0mranking\u001b[0m\u001b[1;33m)\u001b[0m\u001b[1;33m\u001b[0m\u001b[1;33m\u001b[0m\u001b[0m\n\u001b[0m\u001b[0;32m     32\u001b[0m         \u001b[1;32mreturn\u001b[0m \u001b[0mevaluation\u001b[0m\u001b[1;33m\u001b[0m\u001b[1;33m\u001b[0m\u001b[0m\n\u001b[0;32m     33\u001b[0m \u001b[1;33m\u001b[0m\u001b[0m\n",
      "\u001b[1;32m~\\Anaconda3\\lib\\bdb.py\u001b[0m in \u001b[0;36mtrace_dispatch\u001b[1;34m(self, frame, event, arg)\u001b[0m\n\u001b[0;32m     86\u001b[0m             \u001b[1;32mreturn\u001b[0m \u001b[1;31m# None\u001b[0m\u001b[1;33m\u001b[0m\u001b[1;33m\u001b[0m\u001b[0m\n\u001b[0;32m     87\u001b[0m         \u001b[1;32mif\u001b[0m \u001b[0mevent\u001b[0m \u001b[1;33m==\u001b[0m \u001b[1;34m'line'\u001b[0m\u001b[1;33m:\u001b[0m\u001b[1;33m\u001b[0m\u001b[1;33m\u001b[0m\u001b[0m\n\u001b[1;32m---> 88\u001b[1;33m             \u001b[1;32mreturn\u001b[0m \u001b[0mself\u001b[0m\u001b[1;33m.\u001b[0m\u001b[0mdispatch_line\u001b[0m\u001b[1;33m(\u001b[0m\u001b[0mframe\u001b[0m\u001b[1;33m)\u001b[0m\u001b[1;33m\u001b[0m\u001b[1;33m\u001b[0m\u001b[0m\n\u001b[0m\u001b[0;32m     89\u001b[0m         \u001b[1;32mif\u001b[0m \u001b[0mevent\u001b[0m \u001b[1;33m==\u001b[0m \u001b[1;34m'call'\u001b[0m\u001b[1;33m:\u001b[0m\u001b[1;33m\u001b[0m\u001b[1;33m\u001b[0m\u001b[0m\n\u001b[0;32m     90\u001b[0m             \u001b[1;32mreturn\u001b[0m \u001b[0mself\u001b[0m\u001b[1;33m.\u001b[0m\u001b[0mdispatch_call\u001b[0m\u001b[1;33m(\u001b[0m\u001b[0mframe\u001b[0m\u001b[1;33m,\u001b[0m \u001b[0marg\u001b[0m\u001b[1;33m)\u001b[0m\u001b[1;33m\u001b[0m\u001b[1;33m\u001b[0m\u001b[0m\n",
      "\u001b[1;32m~\\Anaconda3\\lib\\bdb.py\u001b[0m in \u001b[0;36mdispatch_line\u001b[1;34m(self, frame)\u001b[0m\n\u001b[0;32m    111\u001b[0m         \u001b[1;32mif\u001b[0m \u001b[0mself\u001b[0m\u001b[1;33m.\u001b[0m\u001b[0mstop_here\u001b[0m\u001b[1;33m(\u001b[0m\u001b[0mframe\u001b[0m\u001b[1;33m)\u001b[0m \u001b[1;32mor\u001b[0m \u001b[0mself\u001b[0m\u001b[1;33m.\u001b[0m\u001b[0mbreak_here\u001b[0m\u001b[1;33m(\u001b[0m\u001b[0mframe\u001b[0m\u001b[1;33m)\u001b[0m\u001b[1;33m:\u001b[0m\u001b[1;33m\u001b[0m\u001b[1;33m\u001b[0m\u001b[0m\n\u001b[0;32m    112\u001b[0m             \u001b[0mself\u001b[0m\u001b[1;33m.\u001b[0m\u001b[0muser_line\u001b[0m\u001b[1;33m(\u001b[0m\u001b[0mframe\u001b[0m\u001b[1;33m)\u001b[0m\u001b[1;33m\u001b[0m\u001b[1;33m\u001b[0m\u001b[0m\n\u001b[1;32m--> 113\u001b[1;33m             \u001b[1;32mif\u001b[0m \u001b[0mself\u001b[0m\u001b[1;33m.\u001b[0m\u001b[0mquitting\u001b[0m\u001b[1;33m:\u001b[0m \u001b[1;32mraise\u001b[0m \u001b[0mBdbQuit\u001b[0m\u001b[1;33m\u001b[0m\u001b[1;33m\u001b[0m\u001b[0m\n\u001b[0m\u001b[0;32m    114\u001b[0m         \u001b[1;32mreturn\u001b[0m \u001b[0mself\u001b[0m\u001b[1;33m.\u001b[0m\u001b[0mtrace_dispatch\u001b[0m\u001b[1;33m\u001b[0m\u001b[1;33m\u001b[0m\u001b[0m\n\u001b[0;32m    115\u001b[0m \u001b[1;33m\u001b[0m\u001b[0m\n",
      "\u001b[1;31mBdbQuit\u001b[0m: "
     ]
    }
   ],
   "source": [
    "# eval Query\n",
    "evalIRModel.evaluationQuery(0,0,11)"
   ]
  },
  {
   "cell_type": "code",
   "execution_count": null,
   "metadata": {},
   "outputs": [],
   "source": [
    "sorted_rel = np.sort(rel, axis=0)[::-1]\n",
    "        metric = np.log([2+i for i in range(r)])\n",
    "        dcg = np.sum(rel[:r]/metric)\n",
    "        dcg_max = np.sum(sorted_rel[:r]/metric)\n",
    "        \n",
    "        if not dcg_max:\n",
    "            return 0\n",
    "        else:\n",
    "            return dcg/dcg_max"
   ]
  },
  {
   "cell_type": "markdown",
   "metadata": {},
   "source": [
    "# autre"
   ]
  },
  {
   "cell_type": "code",
   "execution_count": 177,
   "metadata": {},
   "outputs": [],
   "source": [
    "#Init irModel\n",
    "weighter = Weighter1(indexTest, indexInverseTest)\n",
    "irModel1 = Vectoriel(weighter, True)"
   ]
  },
  {
   "cell_type": "code",
   "execution_count": 178,
   "metadata": {},
   "outputs": [
    {
     "data": {
      "text/plain": [
       "IRModel.Vectoriel"
      ]
     },
     "execution_count": 178,
     "metadata": {},
     "output_type": "execute_result"
    }
   ],
   "source": [
    "type(irModel1)"
   ]
  },
  {
   "cell_type": "code",
   "execution_count": 148,
   "metadata": {},
   "outputs": [],
   "source": [
    "#Parse + indexation Docs\n",
    "collecCacm = Parser.parseCacmCisi('cacm.txt')\n",
    "indexer=IndexerSimple(collecCacm)\n",
    "indexer.indexation()\n",
    "indexTest, indexInverseTest = indexer.getIndex(), indexer.getIndexInv()"
   ]
  },
  {
   "cell_type": "code",
   "execution_count": 149,
   "metadata": {},
   "outputs": [],
   "source": [
    "#Parse querys\n",
    "req1 = ParserQuery.parseQRY('cacm.qry')\n",
    "querys = ParserQuery.parseREL('cacm.rel',req1)"
   ]
  },
  {
   "cell_type": "code",
   "execution_count": 150,
   "metadata": {},
   "outputs": [],
   "source": [
    "#Init irModel\n",
    "weighter = Weighter1(indexTest, indexInverseTest)\n",
    "irModel1 = Vectoriel(weighter, True)"
   ]
  },
  {
   "cell_type": "code",
   "execution_count": 151,
   "metadata": {},
   "outputs": [],
   "source": [
    "#Init evaluation modes\n",
    "k=3 #rang\n",
    "evalMesure1 = NGCD(k)"
   ]
  },
  {
   "cell_type": "code",
   "execution_count": 152,
   "metadata": {},
   "outputs": [
    {
     "data": {
      "text/plain": [
       "[0.0,\n",
       " 0,\n",
       " 0.0,\n",
       " 0.0,\n",
       " 0.0,\n",
       " 0.0,\n",
       " 0.0,\n",
       " 0.0,\n",
       " 0.0,\n",
       " 0.23463936301137822,\n",
       " 0,\n",
       " 0.0,\n",
       " 0.0,\n",
       " 0.23463936301137822,\n",
       " 0.0,\n",
       " 0.0,\n",
       " 0.0,\n",
       " 0.0,\n",
       " 0.0,\n",
       " 0.0,\n",
       " 0.0,\n",
       " 0.0,\n",
       " 0.0,\n",
       " 0.0,\n",
       " 0.23463936301137822,\n",
       " 0.0,\n",
       " 0.0,\n",
       " 0.0,\n",
       " 0.7039180890341346,\n",
       " 0.46927872602275644,\n",
       " 0.0,\n",
       " 0.29608191096586517,\n",
       " 0.0,\n",
       " 0,\n",
       " 0,\n",
       " 0.0,\n",
       " 0.0,\n",
       " 0.29608191096586517,\n",
       " 0.23463936301137822,\n",
       " 0.0,\n",
       " 0,\n",
       " 0.7039180890341346,\n",
       " 0.0,\n",
       " 0.0,\n",
       " 0.46927872602275644,\n",
       " 0,\n",
       " 0,\n",
       " 0.46927872602275644,\n",
       " 0.0,\n",
       " 0,\n",
       " 0,\n",
       " 0,\n",
       " 0,\n",
       " 0,\n",
       " 0,\n",
       " 0,\n",
       " 1.0,\n",
       " 0.5307212739772434,\n",
       " 0.29608191096586517,\n",
       " 0.0,\n",
       " 0.7653606369886217,\n",
       " 0.0,\n",
       " 0.46927872602275644,\n",
       " 0]"
      ]
     },
     "execution_count": 152,
     "metadata": {},
     "output_type": "execute_result"
    }
   ],
   "source": [
    "#EvalIRModel init\n",
    "\n",
    "evalIRModel = EvalIRModel([irModel1],[evalMesure1],indexer,querys)\n",
    "len(evalIRModel.getQuerys())\n",
    "evalIRModel.evaluationSimple(0,0)"
   ]
  },
  {
   "cell_type": "code",
   "execution_count": 182,
   "metadata": {},
   "outputs": [],
   "source": [
    "if type(0) == list:\n",
    "    print(\"coucou\")"
   ]
  },
  {
   "cell_type": "code",
   "execution_count": 176,
   "metadata": {},
   "outputs": [
    {
     "data": {
      "text/plain": [
       "int"
      ]
     },
     "execution_count": 176,
     "metadata": {},
     "output_type": "execute_result"
    }
   ],
   "source": [
    "type(0)"
   ]
  },
  {
   "cell_type": "code",
   "execution_count": 183,
   "metadata": {},
   "outputs": [
    {
     "ename": "SyntaxError",
     "evalue": "invalid syntax (<ipython-input-183-f076fbdbe794>, line 1)",
     "output_type": "error",
     "traceback": [
      "\u001b[1;36m  File \u001b[1;32m\"<ipython-input-183-f076fbdbe794>\"\u001b[1;36m, line \u001b[1;32m1\u001b[0m\n\u001b[1;33m    print(i) for i in range(6)\u001b[0m\n\u001b[1;37m               ^\u001b[0m\n\u001b[1;31mSyntaxError\u001b[0m\u001b[1;31m:\u001b[0m invalid syntax\n"
     ]
    }
   ],
   "source": [
    "print(i) for i in range(6)"
   ]
  },
  {
   "cell_type": "code",
   "execution_count": 184,
   "metadata": {},
   "outputs": [],
   "source": [
    "a = [0,1]"
   ]
  },
  {
   "cell_type": "code",
   "execution_count": 185,
   "metadata": {},
   "outputs": [],
   "source": [
    "a.append([0,0])"
   ]
  },
  {
   "cell_type": "code",
   "execution_count": 186,
   "metadata": {},
   "outputs": [
    {
     "data": {
      "text/plain": [
       "[0, 1, [0, 0]]"
      ]
     },
     "execution_count": 186,
     "metadata": {},
     "output_type": "execute_result"
    }
   ],
   "source": [
    "a"
   ]
  },
  {
   "cell_type": "code",
   "execution_count": null,
   "metadata": {},
   "outputs": [],
   "source": []
  }
 ],
 "metadata": {
  "kernelspec": {
   "display_name": "Python 3",
   "language": "python",
   "name": "python3"
  },
  "language_info": {
   "codemirror_mode": {
    "name": "ipython",
    "version": 3
   },
   "file_extension": ".py",
   "mimetype": "text/x-python",
   "name": "python",
   "nbconvert_exporter": "python",
   "pygments_lexer": "ipython3",
   "version": "3.7.3"
  }
 },
 "nbformat": 4,
 "nbformat_minor": 4
}
