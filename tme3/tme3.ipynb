{
 "cells": [
  {
   "cell_type": "code",
   "execution_count": 87,
   "metadata": {},
   "outputs": [],
   "source": [
    "import numpy as np\n",
    "from collections import Counter\n",
    "import porter as p\n",
    "import re\n",
    "from Weighter import Weighter1\n",
    "from IRModel import Vectoriel\n",
    "from Parser import Parser\n",
    "from IndexerSimple import IndexerSimple"
   ]
  },
  {
   "cell_type": "markdown",
   "metadata": {},
   "source": [
    "- Données test (Docs / Requêtes)"
   ]
  },
  {
   "cell_type": "code",
   "execution_count": 88,
   "metadata": {},
   "outputs": [],
   "source": [
    "docs=[\"the new home has been saled on top forecasts\",\n",
    "     \"the home sales rise in july\",\n",
    "     \"there is an increase in home sales in july\",\n",
    "     \"july encounter a new home sales rise\"]\n",
    "\n",
    "reqs = [\"top sales\",\n",
    "       \"sales increase july\",\n",
    "       \"new home\"]\n",
    "\n",
    "stopWords=[\"the\",\"a\",\"an\",\"on\",\"behind\",\"under\",\"there\",\"in\"]\n",
    "\n",
    "index = {}\n",
    "for i in range(len(docs)):\n",
    "    index[i] = dict(Counter(map(p.stem, [word for word in (str.lower(docs[i])).split() if word not in stopWords])))           \n",
    "            \n",
    "indexInverse = {}\n",
    "for numDoc, dico in index.items():\n",
    "    for word, tf in dico.items():\n",
    "        if(word not in indexInverse):\n",
    "            indexInverse[word]= {}\n",
    "        indexInverse[word][numDoc] = tf"
   ]
  },
  {
   "cell_type": "markdown",
   "metadata": {},
   "source": [
    "- Pertinence des requêtes"
   ]
  },
  {
   "cell_type": "code",
   "execution_count": 89,
   "metadata": {},
   "outputs": [],
   "source": [
    "pertiReq = {0:{0},      #doc1 pertinent pour req1\n",
    "           1:{1,2},     #doc2 et 3 pertinent pour req2 (doc2 plus pertinent que doc3)\n",
    "           2:{}}        #aucuns docs pertinents pour req3"
   ]
  },
  {
   "cell_type": "code",
   "execution_count": 90,
   "metadata": {},
   "outputs": [],
   "source": [
    "if 1 in pertiReq[0]:\n",
    "    print(\"hello\")"
   ]
  },
  {
   "cell_type": "markdown",
   "metadata": {},
   "source": [
    "## Exercice 1."
   ]
  },
  {
   "cell_type": "markdown",
   "metadata": {},
   "source": [
    "- modèle booléen"
   ]
  },
  {
   "cell_type": "code",
   "execution_count": 91,
   "metadata": {},
   "outputs": [],
   "source": [
    "def booleen(query):\n",
    "    req = list(np.unique(list(map(p.stem, query.split())))) \n",
    "    #représentation du résultat comme unensemble de documents\n",
    "    res=set(index)\n",
    "    for stem in req:\n",
    "        res=res.intersection(indexInverse[stem])#On récupère l'intersection des documents contenant un mot de la requete\n",
    "    return res"
   ]
  },
  {
   "cell_type": "code",
   "execution_count": 92,
   "metadata": {},
   "outputs": [
    {
     "data": {
      "text/plain": [
       "{2}"
      ]
     },
     "execution_count": 92,
     "metadata": {},
     "output_type": "execute_result"
    }
   ],
   "source": [
    "booleen(reqs[1])"
   ]
  },
  {
   "cell_type": "markdown",
   "metadata": {},
   "source": [
    "- modele vectoriel"
   ]
  },
  {
   "cell_type": "code",
   "execution_count": 93,
   "metadata": {},
   "outputs": [],
   "source": [
    "#modele vectoriel\n",
    "def vect(query):\n",
    "    nbDoc = 4\n",
    "    req = list(np.unique(list(map(p.stem,query.split()))))\n",
    "    res = [indexInverse[i] for i in req]\n",
    "    doc = []\n",
    "    doc_res = np.zeros(nbDoc)\n",
    "    for w in res:\n",
    "        doc.append(set(w.keys()))\n",
    "    for w in doc:\n",
    "        for d in w:\n",
    "            doc_res[d]+=1\n",
    "    return doc_res"
   ]
  },
  {
   "cell_type": "markdown",
   "metadata": {},
   "source": [
    "#### Precision (capacité à ne retourner que des docs pertinents)"
   ]
  },
  {
   "cell_type": "code",
   "execution_count": 94,
   "metadata": {},
   "outputs": [],
   "source": [
    "def preci(idQuery, modele = 0):\n",
    "    if modele == 0:\n",
    "        docs_retournés = booleen(reqs[idQuery])\n",
    "    elif modele == 1:\n",
    "        docs_retournés = vect(reqs[idQuery])\n",
    "    pert = set(pertiReq[idQuery])     #docs jugés pertinents\n",
    "    tp = docs_retournés.intersection(pert)  #True positifs (R & P)\n",
    "    fp = docs_retournés.difference(preci)   #False positifs (R-P)\n",
    "    if len(tp) == 0 & len(fp) == 0:\n",
    "        return 0\n",
    "    return len(tp)/(len(tp)+len(fp))     #mesure de précision"
   ]
  },
  {
   "cell_type": "code",
   "execution_count": 95,
   "metadata": {},
   "outputs": [],
   "source": [
    "def preciRangk(rang,idQuery,score,jugement):\n",
    "    \"\"\" score: dict() -> {idDoc: scoreDoc} dépend du modèle de poids adopté\n",
    "        (trié par score décroissant)\n",
    "        jugement : pertinence des requêtes\"\"\"\n",
    "    k = rang\n",
    "    res = 0\n",
    "    for i in k:\n",
    "        if score[i] in jugement[idQuery]:\n",
    "            res+=1\n",
    "    return res/k"
   ]
  },
  {
   "cell_type": "markdown",
   "metadata": {},
   "source": [
    "#### Rappel (capacité à retourner tous les docs pertinents)"
   ]
  },
  {
   "cell_type": "code",
   "execution_count": 96,
   "metadata": {},
   "outputs": [],
   "source": [
    "def rappel(idQuery, modele = 0):\n",
    "    if modele == 0:\n",
    "        docs_retournés = booleen(reqs[idQuery])\n",
    "    elif modele == 1:\n",
    "        docs_retournés = set(vect(reqs[idQuery]))\n",
    "    pert = set(pertiReq[idQuery])      #docs jugés pertinents\n",
    "    tp = docs_retournés.intersection(pert)    #True positifs (R & P)\n",
    "    fn = pert.difference(docs_retournés)      #False negatifs (P-R)\n",
    "    if len(tp) == 0 & len(fn) == 0:\n",
    "        return 0\n",
    "    return len(tp)/(len(tp)+len(fn))      #mesure de rappel"
   ]
  },
  {
   "cell_type": "code",
   "execution_count": 97,
   "metadata": {},
   "outputs": [],
   "source": [
    "def rappelRangk(rang,idQuery,score,jugement):\n",
    "    \"\"\" score: dict() -> {idDoc: scoreDoc} dépend du modèle de poids adopté\n",
    "        (trié par score décroissant)\n",
    "        jugement : pertinence des requêtes\"\"\"\n",
    "    k = rang\n",
    "    res = 0\n",
    "    for i in k:\n",
    "        if score[i] in jugement[idQuery]:\n",
    "            res+=1\n",
    "    return res/len(jugement[idQuery])"
   ]
  },
  {
   "cell_type": "code",
   "execution_count": 98,
   "metadata": {},
   "outputs": [
    {
     "data": {
      "text/plain": [
       "0"
      ]
     },
     "execution_count": 98,
     "metadata": {},
     "output_type": "execute_result"
    }
   ],
   "source": [
    "rappel(2,1)"
   ]
  },
  {
   "cell_type": "code",
   "execution_count": 99,
   "metadata": {},
   "outputs": [],
   "source": [
    "def fMesure(idQuery, rang):\n",
    "    r = rappel(idQuery)\n",
    "    p = preci(idQuery)\n",
    "    fact1 = 1+rang**2\n",
    "    fact2 = (p*r)/(p*(rang**2)+r)\n",
    "    return fact1*fact2"
   ]
  },
  {
   "cell_type": "markdown",
   "metadata": {},
   "source": [
    "## Exercice 2."
   ]
  },
  {
   "cell_type": "markdown",
   "metadata": {},
   "source": [
    "## 1. Chargement des requêtes et de leur docs pertinents"
   ]
  },
  {
   "cell_type": "code",
   "execution_count": 100,
   "metadata": {},
   "outputs": [],
   "source": [
    "class Query():\n",
    "    def __init__(self, idQuery):\n",
    "        self.identifiant = int(idQuery)\n",
    "        self.texte = \"\"\n",
    "        self.docsPertinents = []\n",
    "     \n",
    "    #GETTERS\n",
    "    def getIdentifiant(self):\n",
    "        return self.identifiant\n",
    "        \n",
    "    def getTexte(self):\n",
    "        return self.texte\n",
    "        \n",
    "    def getDocspertinents(self):\n",
    "        return self.docsPertinents\n",
    "    \n",
    "    # SETTERS\n",
    "    def setTexte(self, texte):\n",
    "        self.texte = texte\n",
    "        \n",
    "    def setDocspertinents(self, docs):\n",
    "        self.docsPertinents = docs\n",
    "        \n",
    "        \n",
    "    # METHODES\n",
    "    def addTexte(self, texte):\n",
    "        self.texte += texte\n",
    "        \n",
    "    def addDocspertinents(self,doc):\n",
    "        self.docsPertinents.append(doc)"
   ]
  },
  {
   "cell_type": "code",
   "execution_count": 101,
   "metadata": {},
   "outputs": [],
   "source": [
    "class ParserQuery():\n",
    "    \n",
    "    def parseQRY(chemin):\n",
    "        \"\"\" \n",
    "        Fonction permettant de parser les fichers QRY (requêtes avec leurs identifiants et leur texte)\n",
    "        \"\"\"\n",
    "        file = open(chemin, 'r') \n",
    "\n",
    "        res = {}\n",
    "        currentI = None\n",
    "        currentBalise = None \n",
    "        currentQuery = None\n",
    "\n",
    "        while True:\n",
    "            #lis une seule ligne\n",
    "            line = file.readline()\n",
    "\n",
    "            #si ligne vide, fin du fichier\n",
    "            if not line:\n",
    "                break\n",
    "\n",
    "            #récupère la ligne sous forme de mots\n",
    "            words=line.split()\n",
    "\n",
    "            #Si la ligne n'est pas vide\n",
    "            if(len(words)>0):\n",
    "                #Test si on est sur une balise et laquelle\n",
    "                if(words[0]==\".I\"):\n",
    "\n",
    "                    if(currentQuery != None):\n",
    "                        #J'enregistre la requete courante avant d'en créer une autre\n",
    "                        res[currentQuery.getIdentifiant()] = currentQuery \n",
    "\n",
    "                    del currentQuery\n",
    "                    currentQuery = Query(words[1])# Création d'une requete avec son identifiant\n",
    "                    currentI = words[1]\n",
    "                    currentBalise = 'I' \n",
    "\n",
    "                elif(words[0]==\".W\"):\n",
    "                    currentBalise='W' #J'indique que je suis danc une balise W\n",
    "                elif(words[0][0]=='.'): \n",
    "                    currentBalise='unknown' #J'indique que je suis dans une balsie inconnue\n",
    "                else: \n",
    "                    #On est dans le contenu d'une balise\n",
    "                    if(currentBalise=='W'):\n",
    "                        currentQuery.addTexte(line)#J'ajoute la ligne au texte de la requête\n",
    "\n",
    "        #J'enregistre la requête courante avant de quitter\n",
    "        res[currentQuery.getIdentifiant()] = currentQuery\n",
    "\n",
    "        file.close()\n",
    "        return res\n",
    "    \n",
    "    \n",
    "    def parseREL(chemin, reqs):\n",
    "        \n",
    "        file = open(chemin, 'r') \n",
    "        \n",
    "        while True:\n",
    "            #lis une seule ligne\n",
    "            line = file.readline()\n",
    "\n",
    "            #si ligne vide, fin du fichier\n",
    "            if not line:\n",
    "                break\n",
    "            words=line.split()\n",
    "            \n",
    "            if int(words[0][0]) == 0:\n",
    "                docPertinent = int(re.split('^0*',words[1])[1])\n",
    "                reqs[int(words[0][1])].addDocspertinents(docPertinent)\n",
    "            else:\n",
    "                docPertinent = int(re.split('^0*',words[1])[1])\n",
    "                reqs[int(words[0])].addDocspertinents(docPertinent)\n",
    "                     \n",
    "        file.close()\n",
    "        return reqs"
   ]
  },
  {
   "cell_type": "code",
   "execution_count": 102,
   "metadata": {},
   "outputs": [],
   "source": [
    "req1 = ParserQuery.parseQRY('cacm.qry')\n",
    "req2 = ParserQuery.parseREL('cacm.rel',req1)"
   ]
  },
  {
   "cell_type": "code",
   "execution_count": 103,
   "metadata": {},
   "outputs": [
    {
     "data": {
      "text/plain": [
       "' What articles exist which deal with TSS (Time Sharing System), an\\noperating system for IBM computers?\\n'"
      ]
     },
     "execution_count": 103,
     "metadata": {},
     "output_type": "execute_result"
    }
   ],
   "source": [
    "req2[1].getTexte()"
   ]
  },
  {
   "cell_type": "markdown",
   "metadata": {},
   "source": [
    "## 2. Métriques"
   ]
  },
  {
   "cell_type": "code",
   "execution_count": 104,
   "metadata": {},
   "outputs": [],
   "source": [
    "class EvalMesure():\n",
    "    \n",
    "    def __init__(self):\n",
    "        self.query = None\n",
    "        \n",
    "    def evalQuery(self,liste):\n",
    "        pass\n",
    "    \n",
    "    #GETTERS\n",
    "    def getQuery(self):\n",
    "        return self.query\n",
    "    \n",
    "    #SETTERS\n",
    "    def setQuery(self, query):\n",
    "        self.query = query"
   ]
  },
  {
   "cell_type": "code",
   "execution_count": 105,
   "metadata": {},
   "outputs": [],
   "source": [
    "class Precision(EvalMesure):\n",
    "    \n",
    "    def __init__(self,k):\n",
    "        \n",
    "        super().__init__()\n",
    "        self.rang = k #rang de précision\n",
    "        \n",
    "    def evalQuery(self, scores):\n",
    "        \"\"\" scores: liste() -> [idDoc] dépend du modèle de poids adopté\n",
    "        (trié par score décroissant)\"\"\"\n",
    "        res = 0\n",
    "        for i in range(self.rang):\n",
    "            if scores[i] in self.query.getDocspertinents():\n",
    "                res+=1\n",
    "        return res/self.rang"
   ]
  },
  {
   "cell_type": "code",
   "execution_count": 106,
   "metadata": {},
   "outputs": [],
   "source": [
    "class Rappel(EvalMesure):\n",
    "    \n",
    "    def __init__(self,k):\n",
    "        \n",
    "        super().__init__()\n",
    "        self.rang = k #rang de rappel\n",
    "        \n",
    "    def evalQuery(self, scores):\n",
    "        \"\"\" scores: liste() -> [idDoc] dépend du modèle de poids adopté\n",
    "        (trié par score décroissant)\"\"\"\n",
    "        res = 0\n",
    "        for i in range(self.rang):\n",
    "            if scores[i] in self.query.getDocspertinents():\n",
    "                res+=1\n",
    "        return res/len(self.query.getDocspertinents())"
   ]
  },
  {
   "cell_type": "code",
   "execution_count": 241,
   "metadata": {},
   "outputs": [],
   "source": [
    "class NGCD(EvalMesure):\n",
    "    \n",
    "    def __init__(self,k):\n",
    "        \n",
    "        super().__init__()\n",
    "        self.rang = k #nombre de résultats à considérer\n",
    "        \n",
    "    def evalQuery(self, scores):\n",
    "        \"\"\" scores: liste() -> [idDoc] dépend du modèle de poids adopté\n",
    "        (trié par score décroissant)\"\"\"\n",
    "        \n",
    "        #relevance of returned docs above\n",
    "        rel = [1 if d in self.query.getDocspertinents() else 0 for d in scores]\n",
    "        nbRel = len(self.query.getDocspertinents()) #Nombre de dcos pertinents pour la requete\n",
    "        import ipdb; ipdb.set_trace()\n",
    "        if nbRel < self.rang:\n",
    "            r = nbRel\n",
    "        else:\n",
    "            r = self.rang\n",
    "        \n",
    "        #sorted relevance rank\n",
    "        sorted_rel = np.sort(rel, axis=0)[::-1]\n",
    "        metric = np.log([2+i for i in range(r)])\n",
    "        dcg = np.sum(rel[:r]/metric)\n",
    "        dcg_max = np.sum(sorted_rel[:r]/metric)\n",
    "        \n",
    "        if not dcg_max:\n",
    "            return 0\n",
    "        else:\n",
    "            return dcg/dcg_max"
   ]
  },
  {
   "cell_type": "code",
   "execution_count": 108,
   "metadata": {},
   "outputs": [],
   "source": [
    "class AP(EvalMesure):\n",
    "    \"\"\"Avg precision\"\"\"\n",
    "    \n",
    "    def __init__(self,k):\n",
    "        \n",
    "        super().__init__()\n",
    "        self.rang = k\n",
    "        \n",
    "    def evalQuery(self, scores):\n",
    "        \"\"\" calcul de la preci moyenne\"\"\"\n",
    "        return np.mean([self.preci(scores,k) for k in range(self.rang)])\n",
    "     \n",
    "    def preci(self, scores, k):\n",
    "        \"\"\" scores: liste() -> [idDoc] dépend du modèle de poids adopté\n",
    "        (trié par score décroissant)\"\"\"\n",
    "        res = 0\n",
    "        for i in range(k):\n",
    "            if scores[i] in self.query.getDocspertinents():\n",
    "                res+=1\n",
    "        return res/k"
   ]
  },
  {
   "cell_type": "markdown",
   "metadata": {},
   "source": [
    "## Test"
   ]
  },
  {
   "cell_type": "code",
   "execution_count": 145,
   "metadata": {},
   "outputs": [
    {
     "name": "stdout",
     "output_type": "stream",
     "text": [
      "['top sales', 'sales increase july', 'new home']\n",
      "['the new home has been saled on top forecasts', 'the home sales rise in july', 'there is an increase in home sales in july', 'july encounter a new home sales rise']\n",
      "{0: {0}, 1: {1, 2}, 2: {}}\n"
     ]
    }
   ],
   "source": [
    "print(reqs)\n",
    "print(docs)\n",
    "print(pertiReq)"
   ]
  },
  {
   "cell_type": "code",
   "execution_count": 146,
   "metadata": {},
   "outputs": [],
   "source": [
    "#Test query\n",
    "reqs_test = [Query(idQuery, ) for idQuery, docsPerti in pertiReq.items()]\n",
    "for query in reqs_test:\n",
    "    queryId = query.getIdentifiant()\n",
    "    query.setTexte(reqs[queryId])\n",
    "    query.setDocspertinents(list(pertiReq[queryId]))"
   ]
  },
  {
   "cell_type": "code",
   "execution_count": 147,
   "metadata": {},
   "outputs": [
    {
     "name": "stdout",
     "output_type": "stream",
     "text": [
      "[54, 2508, 1969, 1427, 3006, 2394, 2317, 1214, 3108, 2177, 1052, 3017, 1643, 2516, 1014, 1117, 46, 2839, 1465, 2421, 2395, 103, 2493, 1030, 1638, 1713, 1884, 3045, 2913, 1325, 2652, 1154, 1516, 2937, 3111, 796, 2302, 243, 1403, 3030, 2004, 2207, 678, 2019, 3090, 1915, 1433, 1997, 2187, 2374, 2140, 2816, 2246, 1265, 1165, 3565, 2751, 3284, 1408, 1769, 2739, 2820, 4036, 2929, 2938, 3513, 2455, 1497, 1740, 1845, 1886, 2826, 2856, 2859, 1933, 1155, 3459, 2846, 2828, 1454, 2985, 4164, 1719, 1811, 2297, 3033, 1879, 1641, 3832, 2798, 3541, 4070, 2911, 4117, 3248, 2033, 4019, 40, 2669, 3091, 3714, 3707, 3394, 3552, 3931, 4062, 4133, 3288, 3940, 4115, 4096, 3601, 3496, 3396, 3455, 4119, 4069, 3410, 3937, 3981, 3337, 3415, 3850, 4016, 3307, 3933, 4030, 3301, 4194, 3624, 3427, 3550, 3346, 3789, 3530, 3580, 4152, 3679, 3686, 3848, 4168, 3329, 3590, 3509, 3704, 3289, 3461, 3304, 4135, 3358, 3426, 3412, 3591, 3474, 3436, 3668, 3980, 3235, 3767, 3953, 3982, 3725, 4090, 3742, 3499, 4151, 4011, 3684, 3476, 4175, 3452, 3239, 3303, 3554, 3424, 4013, 3268, 4041, 4174, 3956, 3867, 3253, 3518, 4017, 3955, 3543, 3759, 3481, 3438, 3726, 3621, 4067, 4079, 3804, 4076, 3967, 3374, 3553, 3803, 3928, 4006, 3318, 3467, 4047, 3790, 4198, 4099, 3745, 3873, 3744, 4139, 3914, 3313, 3827, 3259, 4122, 3878, 3220, 3663, 3732, 4204, 3237, 3584, 3986, 3547, 3573, 3987, 3441, 3267, 3295, 3653, 4094, 3291, 3738, 3330, 3325, 3446, 3962, 3766, 4046, 3592, 3344, 3657, 3635, 3947, 3777, 4087, 3266, 4093, 4060, 3826, 4033, 3734, 3450, 3765, 3566, 3613, 4123, 3676, 3218, 4196, 4112, 3429, 3589, 3456, 4023, 3206, 3261, 4147, 3480, 3918, 4199, 3435, 3602, 3359, 4162, 3464, 3906, 3813, 3722, 4154, 4177, 4049, 3626, 3563, 3321, 4127, 3690, 3243, 3299, 3885, 3770, 4191, 3540, 3465, 3227, 3345, 3416, 3214, 3723, 3365, 3656, 3222, 3685, 3328, 3771, 3228, 4181, 3822, 3542, 3522, 3845, 3702, 3724, 3367, 4157, 3818, 4083, 3564, 3897, 4180, 3523, 3533, 3966, 3585, 3209, 3924, 3510, 3881, 3309, 3409, 3728, 3595, 3670, 3546, 3974, 3433, 3460, 3556, 3713, 3588, 3831, 3877, 3675, 3644, 3664, 3758, 4143, 3271, 3379, 3549, 3536, 3562, 4009, 3539, 4192, 3611, 3557, 3576, 4035, 3506, 4058, 3351, 3905, 3457, 3812, 3805, 4073, 3393, 3244, 3234, 3755, 3254, 3717, 3368, 4183, 3326, 3213, 4105, 3750, 3681, 3768, 3999, 3838, 3763, 4160, 3545, 3900, 3571, 3418, 3926, 4166, 3696, 3332, 3960, 3949, 4027, 3616, 3269, 3470, 3578, 3993, 4085, 3870, 3861, 3936, 4043, 4106, 3577, 4173, 3287, 3844, 3356, 3421, 3971, 4137, 3672, 3285, 3527, 3587, 3503, 3652, 3979, 3221, 4015, 4186, 4130, 3373, 3731, 3428, 4121, 4129, 3952, 4148, 3751, 3642, 3537, 4051, 4000, 3486, 4150, 3386, 3340, 3991, 4059, 3278, 3370, 3753, 3919, 3216, 4014, 3525, 3798, 3737, 3903, 3529, 3419, 3898, 4053, 3972, 3498, 3661, 3820, 3514, 3507, 3383, 3250, 3639, 4026, 3568, 3887, 4134, 3623, 3333, 3443, 3748, 3502, 3840, 3414, 3521, 3245, 3290, 4136, 3524, 3395, 3868, 3743, 3673, 3715, 3801, 3988, 3671, 3752, 3625, 3680, 4045, 3893, 3784, 4084, 3674, 3619, 3830, 3843, 4095, 3448, 3223, 4141, 3512, 3444, 3215]\n"
     ]
    }
   ],
   "source": [
    "# IR Model\n",
    "weighter = Weighter1(index, indexInverse)\n",
    "vect = Vectoriel(weighter, True)\n",
    "q = reqs_test[1]\n",
    "q_text = q.getTexte()\n",
    "scores = vect.getScores(q_text)\n",
    "ranking = vect.getRanking(scores) #Liste des docs pertinent dans l'ordre décroissant de pertinence\n",
    "print(ranking)"
   ]
  },
  {
   "cell_type": "code",
   "execution_count": 112,
   "metadata": {},
   "outputs": [
    {
     "data": {
      "text/plain": [
       "1.0"
      ]
     },
     "execution_count": 112,
     "metadata": {},
     "output_type": "execute_result"
    }
   ],
   "source": [
    "#Eval mesure : NGCD\n",
    "k=3 #rang\n",
    "evalMesure = NGCD(k)\n",
    "evalMesure.setQuery(reqs_test[1]) #Query to consider\n",
    "evalMesure.evalQuery(ranking)"
   ]
  },
  {
   "cell_type": "markdown",
   "metadata": {},
   "source": [
    "## 3. Plateforme d'évaluation"
   ]
  },
  {
   "cell_type": "code",
   "execution_count": 242,
   "metadata": {},
   "outputs": [],
   "source": [
    "class EvalIRModel():\n",
    "    \n",
    "    def __init__(self, path):\n",
    "        \n",
    "        self.irModels = [] #(Liste)Objets IRModel (Vectoriel, Okapi, modèle de langue ...)\n",
    "        self.evalMesures = [] #(Liste)Objets EvalMesure\n",
    "        self.index = None #index des docs\n",
    "        self.indexInverse = None #index inverse des docs\n",
    "        self.querys = None #liste d'objets requêtes parsées (avec docs pertinents)\n",
    "        self.path = path #cacm ou cisi\n",
    "        \n",
    "    def evaluationSimple(self,idIRModel, idEvalMesure):\n",
    "        model, mesure = self.irModels[idIRModel], self.evalMesures[idEvalMesure]\n",
    "        evals = []\n",
    "        for idq,query in self.querys.items():\n",
    "            mesure.setQuery(query)\n",
    "            query_text = query.getTexte()\n",
    "            scores = model.getScores(query_text)\n",
    "            ranking = model.getRanking(scores)\n",
    "            evals.append(mesure.evalQuery(ranking))\n",
    "        return evals\n",
    "    \n",
    "    def evaluationQuery(self,idIRModel, idEvalMesure, idQuery):\n",
    "        model, mesure, query = self.irModels[idIRModel], self.evalMesures[idEvalMesure], self.querys[idQuery]\n",
    "        mesure.setQuery(query)\n",
    "        query_text = query.getTexte()\n",
    "        scores = model.getScores(query_text)\n",
    "        ranking = model.getRanking(scores)\n",
    "        evaluation = mesure.evalQuery(ranking)\n",
    "        return evaluation\n",
    "    \n",
    "    def parseQuery(self):\n",
    "        \"\"\"Parse querys\"\"\"\n",
    "        reqPath = self.path+'.qry'\n",
    "        relPath = self.path+'.rel'\n",
    "        r = ParserQuery.parseQRY('cacm.qry')\n",
    "        querys = ParserQuery.parseREL('cacm.rel',r)\n",
    "        self.querys = querys\n",
    "        \n",
    "    def parseDoc(self):\n",
    "        \"\"\" Parse and index docs collection\"\"\"\n",
    "        docsPath = self.path+'.txt'\n",
    "        collecCacm = Parser.parseCacmCisi('cacm.txt')\n",
    "        indexer=IndexerSimple(collecCacm)\n",
    "        indexer.indexation()\n",
    "        self.index, self.indexInverse = indexer.getIndex(), indexer.getIndexInv()\n",
    "        \n",
    "    def addModels(self, models):\n",
    "        if type(models) == list:\n",
    "            for m in models:\n",
    "                self.irModels.append(m) \n",
    "        else:\n",
    "            self.irModels.append(models)\n",
    "            \n",
    "    def addMesures(self, mesures):\n",
    "        if type(mesures) == list:\n",
    "            for m in mesures:\n",
    "                self.evalMesures.append(m)\n",
    "        else:\n",
    "            self.evalMesures.append(mesures)\n",
    "            \n",
    "    def getQuerys(self):\n",
    "        return self.querys\n",
    "    \n",
    "    def getIRModels(self):\n",
    "        return self.irModels\n",
    "    \n",
    "    def getEvalMesures(self):\n",
    "        return self.evalMesures\n",
    "    \n",
    "    def getIndex(self):\n",
    "        return self.index\n",
    "    \n",
    "    def getIndexinverse(self):\n",
    "        return self.indexInverse\n",
    "    "
   ]
  },
  {
   "cell_type": "markdown",
   "metadata": {},
   "source": [
    "## Test EvalIRModel (CACM)"
   ]
  },
  {
   "cell_type": "code",
   "execution_count": 243,
   "metadata": {},
   "outputs": [],
   "source": [
    "path = 'cacm'\n",
    "\n",
    "#Init evaluation\n",
    "evalIRModel = EvalIRModel(path)\n",
    "\n",
    "#Query/ Docs parsing (index creation)\n",
    "evalIRModel.parseQuery()\n",
    "evalIRModel.parseDoc()\n",
    "\n",
    "#IRModels\n",
    "#Index, IndexeInv\n",
    "indexCacm, indexInvCacm = evalIRModel.getIndex(), evalIRModel.getIndexinverse()\n",
    "weighter = Weighter1(indexCacm, indexInvCacm)\n",
    "irModel1 = Vectoriel(weighter, True)\n",
    "evalIRModel.addModels(irModel1)\n",
    "\n",
    "# Eval Mesure\n",
    "k=3 #rang\n",
    "evalMesure1 = NGCD(k)\n",
    "evalIRModel.addMesures(evalMesure1)"
   ]
  },
  {
   "cell_type": "code",
   "execution_count": 215,
   "metadata": {},
   "outputs": [],
   "source": [
    "# Evaluation \n",
    "evalIRModel.evaluationSimple(0,0)"
   ]
  },
  {
   "cell_type": "code",
   "execution_count": 244,
   "metadata": {},
   "outputs": [
    {
     "name": "stdout",
     "output_type": "stream",
     "text": [
      "> \u001b[1;32m<ipython-input-241-c5caa26b91df>\u001b[0m(16)\u001b[0;36mevalQuery\u001b[1;34m()\u001b[0m\n",
      "\u001b[1;32m     15 \u001b[1;33m        \u001b[1;32mimport\u001b[0m \u001b[0mipdb\u001b[0m\u001b[1;33m;\u001b[0m \u001b[0mipdb\u001b[0m\u001b[1;33m.\u001b[0m\u001b[0mset_trace\u001b[0m\u001b[1;33m(\u001b[0m\u001b[1;33m)\u001b[0m\u001b[1;33m\u001b[0m\u001b[1;33m\u001b[0m\u001b[0m\n",
      "\u001b[0m\u001b[1;32m---> 16 \u001b[1;33m        \u001b[1;32mif\u001b[0m \u001b[0mnbRel\u001b[0m \u001b[1;33m<\u001b[0m \u001b[0mself\u001b[0m\u001b[1;33m.\u001b[0m\u001b[0mrang\u001b[0m\u001b[1;33m:\u001b[0m\u001b[1;33m\u001b[0m\u001b[1;33m\u001b[0m\u001b[0m\n",
      "\u001b[0m\u001b[1;32m     17 \u001b[1;33m            \u001b[0mr\u001b[0m \u001b[1;33m=\u001b[0m \u001b[0mnbRel\u001b[0m\u001b[1;33m\u001b[0m\u001b[1;33m\u001b[0m\u001b[0m\n",
      "\u001b[0m\n",
      "ipdb> nbRel\n",
      "5\n",
      "ipdb> rel\n",
      "[0, 0, 0, 0, 0, 0, 0, 0, 0, 0, 0, 0, 0, 0, 0, 0, 0, 0, 0, 0, 0, 0, 0, 0, 0, 0, 0, 0, 0, 0, 0, 0, 0, 0, 0, 0, 0, 0, 0, 0, 0, 0, 0, 0, 0, 0, 0, 0, 0, 0, 0, 0, 0, 0, 0, 0, 0, 0, 0, 0, 0, 0, 0, 0, 0, 0, 0, 0, 1, 0, 0, 0, 0, 0, 0, 0, 0, 0, 0, 0, 0, 0, 0, 0, 0, 0, 0, 0, 0, 0, 0, 0, 0, 0, 0, 0, 0, 0, 1, 0, 0, 0, 0, 0, 0, 0, 0, 0, 0, 0, 0, 0, 0, 0, 0, 0, 0, 0, 0, 1, 0, 0, 0, 0, 0, 0, 0, 0, 0, 0, 0, 0, 0, 0, 0, 0, 0, 0, 0, 0, 0, 0, 0, 0, 0, 0, 0, 0, 0, 0, 0, 0, 0, 0, 0, 0, 0, 0, 0, 0, 0, 0, 0, 0, 0, 0, 0, 0, 0, 0, 0, 0, 0, 0, 0, 0, 0, 0, 0, 0, 0, 0, 0, 0, 0, 0, 0, 0, 0, 0, 0, 0, 0, 0, 0, 0, 0, 0, 0, 0, 0, 0, 0, 0, 0, 0, 0, 0, 0, 0, 0, 0, 0, 0, 0, 0, 0, 0, 0, 0, 0, 0, 0, 0, 0, 0, 0, 0, 0, 0, 0, 0, 0, 0, 0, 0, 0, 0, 0, 0, 0, 0, 0, 0, 0, 0, 0, 0, 0, 0, 0, 0, 0, 0, 0, 0, 0, 0, 0, 0, 0, 0, 0, 0, 0, 0, 0, 0, 0, 0, 0, 0, 0, 0, 0, 0, 0, 0, 0, 0, 0, 0, 0, 0, 0, 0, 0, 0, 0, 0, 0, 0, 0, 0, 0, 0, 0, 0, 0, 0, 0, 0, 0, 0, 0, 0, 0, 0, 0, 0, 0, 0, 0, 0, 0, 0, 0, 0, 0, 0, 0, 0, 0, 0, 0, 0, 0, 0, 0, 0, 0, 0, 0, 0, 0, 0, 0, 0, 0, 0, 0, 0, 0, 0, 0, 0, 0, 0, 0, 0, 0, 0, 0, 0, 0, 0, 0, 0, 0, 0, 0, 0, 0, 0, 0, 0, 0, 0, 0, 0, 0, 0, 0, 0, 0, 0, 0, 0, 0, 0, 0, 0, 0, 0, 0, 0, 0, 0, 0, 0, 0, 0, 0, 0, 0, 0, 0, 0, 1, 0, 0, 0, 0, 0, 0, 0, 0, 0, 0, 0, 0, 0, 0, 0, 0, 0, 0, 0, 0, 0, 0, 0, 0, 0, 0, 0, 0, 0, 0, 0, 0, 0, 0, 0, 0, 0, 0, 0, 0, 0, 0, 0, 0, 0, 0, 0, 0, 0, 0, 0, 0, 1, 0, 0, 0, 0, 0, 0, 0, 0, 0, 0, 0, 0, 0, 0, 0, 0, 0, 0, 0, 0, 0, 0, 0, 0, 0, 0, 0, 0, 0, 0, 0, 0, 0, 0, 0, 0, 0, 0, 0, 0, 0, 0, 0, 0, 0, 0, 0, 0, 0, 0, 0, 0, 0, 0, 0, 0, 0, 0, 0, 0, 0, 0, 0, 0, 0, 0, 0, 0, 0, 0, 0, 0, 0, 0, 0, 0, 0, 0, 0, 0, 0, 0, 0, 0, 0, 0, 0, 0, 0, 0, 0, 0, 0, 0, 0, 0, 0, 0, 0, 0, 0, 0, 0, 0, 0, 0, 0, 0, 0, 0, 0, 0, 0, 0, 0, 0, 0, 0, 0, 0, 0, 0, 0, 0, 0, 0, 0, 0, 0, 0, 0, 0, 0, 0, 0, 0, 0, 0, 0, 0, 0, 0, 0, 0, 0, 0, 0, 0, 0, 0, 0, 0, 0, 0, 0, 0, 0, 0, 0, 0, 0, 0, 0, 0, 0, 0, 0, 0, 0, 0, 0, 0, 0, 0, 0, 0, 0, 0, 0, 0, 0, 0, 0, 0, 0, 0, 0, 0, 0, 0, 0, 0, 0, 0, 0, 0, 0, 0, 0, 0, 0, 0, 0, 0, 0, 0, 0, 0, 0, 0, 0, 0, 0, 0, 0, 0, 0, 0, 0, 0, 0, 0, 0, 0, 0, 0, 0, 0, 0, 0, 0, 0, 0, 0, 0, 0, 0, 0, 0, 0, 0, 0, 0, 0, 0, 0, 0, 0, 0, 0, 0, 0, 0, 0, 0, 0, 0, 0, 0, 0, 0, 0, 0, 0, 0, 0, 0, 0, 0, 0, 0, 0, 0, 0, 0, 0, 0, 0, 0, 0, 0, 0, 0, 0, 0, 0, 0, 0, 0, 0, 0, 0, 0, 0, 0, 0, 0, 0, 0, 0, 0, 0, 0, 0, 0, 0, 0, 0, 0, 0, 0, 0, 0, 0, 0, 0, 0, 0, 0, 0, 0, 0, 0, 0, 0, 0, 0, 0, 0, 0, 0, 0, 0, 0, 0, 0, 0, 0, 0, 0, 0, 0, 0, 0, 0, 0, 0, 0, 0, 0, 0, 0, 0, 0, 0, 0, 0, 0, 0, 0, 0, 0, 0, 0, 0, 0, 0, 0, 0, 0, 0, 0, 0, 0, 0, 0, 0, 0, 0, 0, 0, 0, 0, 0, 0, 0, 0, 0, 0, 0, 0, 0, 0, 0, 0, 0, 0, 0, 0, 0, 0, 0, 0, 0, 0, 0, 0, 0, 0, 0, 0, 0, 0, 0, 0, 0, 0, 0, 0, 0, 0, 0, 0, 0, 0, 0, 0, 0, 0, 0, 0, 0, 0, 0, 0, 0, 0, 0, 0, 0, 0, 0, 0, 0, 0, 0, 0, 0, 0, 0, 0, 0, 0, 0, 0, 0, 0, 0, 0, 0, 0, 0, 0, 0, 0, 0, 0, 0, 0, 0, 0, 0, 0, 0, 0, 0, 0, 0, 0, 0, 0, 0, 0, 0, 0, 0, 0, 0, 0, 0, 0, 0, 0, 0, 0, 0, 0, 0, 0, 0, 0, 0, 0, 0, 0, 0, 0, 0, 0, 0, 0, 0, 0, 0, 0, 0, 0, 0, 0, 0, 0, 0, 0, 0, 0, 0, 0, 0, 0, 0, 0, 0, 0, 0, 0, 0, 0, 0, 0, 0, 0, 0, 0, 0, 0, 0, 0, 0, 0, 0, 0, 0, 0, 0, 0, 0, 0, 0, 0, 0, 0, 0, 0, 0, 0, 0, 0, 0, 0, 0, 0, 0, 0, 0, 0, 0, 0, 0, 0, 0, 0, 0, 0, 0, 0, 0, 0, 0, 0, 0, 0, 0, 0, 0, 0, 0, 0, 0, 0, 0, 0, 0, 0, 0, 0, 0, 0, 0, 0, 0, 0, 0, 0, 0, 0, 0, 0, 0, 0, 0, 0, 0, 0, 0, 0, 0, 0]\n",
      "ipdb> np.sort(rel, axis=0)[::-1]\n",
      "array([1, 1, 1, ..., 0, 0, 0])\n",
      "ipdb> rel[:5]\n",
      "[0, 0, 0, 0, 0]\n",
      "ipdb> np.log([2+i for i in range(r)])\n",
      "*** TypeError: 'dict' object cannot be interpreted as an integer\n",
      "ipdb> r\n",
      "--Return--\n",
      "0.0\n",
      "> \u001b[1;32m<ipython-input-241-c5caa26b91df>\u001b[0m(30)\u001b[0;36mevalQuery\u001b[1;34m()\u001b[0m\n",
      "\u001b[1;32m     28 \u001b[1;33m            \u001b[1;32mreturn\u001b[0m \u001b[1;36m0\u001b[0m\u001b[1;33m\u001b[0m\u001b[1;33m\u001b[0m\u001b[0m\n",
      "\u001b[0m\u001b[1;32m     29 \u001b[1;33m        \u001b[1;32melse\u001b[0m\u001b[1;33m:\u001b[0m\u001b[1;33m\u001b[0m\u001b[1;33m\u001b[0m\u001b[0m\n",
      "\u001b[0m\u001b[1;32m---> 30 \u001b[1;33m            \u001b[1;32mreturn\u001b[0m \u001b[0mdcg\u001b[0m\u001b[1;33m/\u001b[0m\u001b[0mdcg_max\u001b[0m\u001b[1;33m\u001b[0m\u001b[1;33m\u001b[0m\u001b[0m\n",
      "\u001b[0m\n",
      "ipdb> nbRel\n",
      "5\n",
      "ipdb> np.log([2+i for i in range(5)])\n",
      "array([0.69314718, 1.09861229, 1.38629436, 1.60943791, 1.79175947])\n",
      "ipdb> metric = np.log([2+i for i in range(5)])\n",
      "ipdb> np.sum(rel[:5]/metric)\n",
      "0.0\n",
      "ipdb> q\n"
     ]
    },
    {
     "ename": "BdbQuit",
     "evalue": "",
     "output_type": "error",
     "traceback": [
      "\u001b[1;31m---------------------------------------------------------------------------\u001b[0m",
      "\u001b[1;31mBdbQuit\u001b[0m                                   Traceback (most recent call last)",
      "\u001b[1;32m<ipython-input-244-2158f2472e19>\u001b[0m in \u001b[0;36m<module>\u001b[1;34m\u001b[0m\n\u001b[0;32m      1\u001b[0m \u001b[1;31m# eval Query\u001b[0m\u001b[1;33m\u001b[0m\u001b[1;33m\u001b[0m\u001b[1;33m\u001b[0m\u001b[0m\n\u001b[1;32m----> 2\u001b[1;33m \u001b[0mevalIRModel\u001b[0m\u001b[1;33m.\u001b[0m\u001b[0mevaluationQuery\u001b[0m\u001b[1;33m(\u001b[0m\u001b[1;36m0\u001b[0m\u001b[1;33m,\u001b[0m\u001b[1;36m0\u001b[0m\u001b[1;33m,\u001b[0m\u001b[1;36m1\u001b[0m\u001b[1;33m)\u001b[0m\u001b[1;33m\u001b[0m\u001b[1;33m\u001b[0m\u001b[0m\n\u001b[0m",
      "\u001b[1;32m<ipython-input-242-5c3943d7c70d>\u001b[0m in \u001b[0;36mevaluationQuery\u001b[1;34m(self, idIRModel, idEvalMesure, idQuery)\u001b[0m\n\u001b[0;32m     27\u001b[0m         \u001b[0mscores\u001b[0m \u001b[1;33m=\u001b[0m \u001b[0mmodel\u001b[0m\u001b[1;33m.\u001b[0m\u001b[0mgetScores\u001b[0m\u001b[1;33m(\u001b[0m\u001b[0mquery_text\u001b[0m\u001b[1;33m)\u001b[0m\u001b[1;33m\u001b[0m\u001b[1;33m\u001b[0m\u001b[0m\n\u001b[0;32m     28\u001b[0m         \u001b[0mranking\u001b[0m \u001b[1;33m=\u001b[0m \u001b[0mmodel\u001b[0m\u001b[1;33m.\u001b[0m\u001b[0mgetRanking\u001b[0m\u001b[1;33m(\u001b[0m\u001b[0mscores\u001b[0m\u001b[1;33m)\u001b[0m\u001b[1;33m\u001b[0m\u001b[1;33m\u001b[0m\u001b[0m\n\u001b[1;32m---> 29\u001b[1;33m         \u001b[0mevaluation\u001b[0m \u001b[1;33m=\u001b[0m \u001b[0mmesure\u001b[0m\u001b[1;33m.\u001b[0m\u001b[0mevalQuery\u001b[0m\u001b[1;33m(\u001b[0m\u001b[0mranking\u001b[0m\u001b[1;33m)\u001b[0m\u001b[1;33m\u001b[0m\u001b[1;33m\u001b[0m\u001b[0m\n\u001b[0m\u001b[0;32m     30\u001b[0m         \u001b[1;32mreturn\u001b[0m \u001b[0mevaluation\u001b[0m\u001b[1;33m\u001b[0m\u001b[1;33m\u001b[0m\u001b[0m\n\u001b[0;32m     31\u001b[0m \u001b[1;33m\u001b[0m\u001b[0m\n",
      "\u001b[1;32m<ipython-input-241-c5caa26b91df>\u001b[0m in \u001b[0;36mevalQuery\u001b[1;34m(self, scores)\u001b[0m\n\u001b[0;32m     28\u001b[0m             \u001b[1;32mreturn\u001b[0m \u001b[1;36m0\u001b[0m\u001b[1;33m\u001b[0m\u001b[1;33m\u001b[0m\u001b[0m\n\u001b[0;32m     29\u001b[0m         \u001b[1;32melse\u001b[0m\u001b[1;33m:\u001b[0m\u001b[1;33m\u001b[0m\u001b[1;33m\u001b[0m\u001b[0m\n\u001b[1;32m---> 30\u001b[1;33m             \u001b[1;32mreturn\u001b[0m \u001b[0mdcg\u001b[0m\u001b[1;33m/\u001b[0m\u001b[0mdcg_max\u001b[0m\u001b[1;33m\u001b[0m\u001b[1;33m\u001b[0m\u001b[0m\n\u001b[0m",
      "\u001b[1;32m~\\Anaconda3\\lib\\bdb.py\u001b[0m in \u001b[0;36mtrace_dispatch\u001b[1;34m(self, frame, event, arg)\u001b[0m\n\u001b[0;32m     90\u001b[0m             \u001b[1;32mreturn\u001b[0m \u001b[0mself\u001b[0m\u001b[1;33m.\u001b[0m\u001b[0mdispatch_call\u001b[0m\u001b[1;33m(\u001b[0m\u001b[0mframe\u001b[0m\u001b[1;33m,\u001b[0m \u001b[0marg\u001b[0m\u001b[1;33m)\u001b[0m\u001b[1;33m\u001b[0m\u001b[1;33m\u001b[0m\u001b[0m\n\u001b[0;32m     91\u001b[0m         \u001b[1;32mif\u001b[0m \u001b[0mevent\u001b[0m \u001b[1;33m==\u001b[0m \u001b[1;34m'return'\u001b[0m\u001b[1;33m:\u001b[0m\u001b[1;33m\u001b[0m\u001b[1;33m\u001b[0m\u001b[0m\n\u001b[1;32m---> 92\u001b[1;33m             \u001b[1;32mreturn\u001b[0m \u001b[0mself\u001b[0m\u001b[1;33m.\u001b[0m\u001b[0mdispatch_return\u001b[0m\u001b[1;33m(\u001b[0m\u001b[0mframe\u001b[0m\u001b[1;33m,\u001b[0m \u001b[0marg\u001b[0m\u001b[1;33m)\u001b[0m\u001b[1;33m\u001b[0m\u001b[1;33m\u001b[0m\u001b[0m\n\u001b[0m\u001b[0;32m     93\u001b[0m         \u001b[1;32mif\u001b[0m \u001b[0mevent\u001b[0m \u001b[1;33m==\u001b[0m \u001b[1;34m'exception'\u001b[0m\u001b[1;33m:\u001b[0m\u001b[1;33m\u001b[0m\u001b[1;33m\u001b[0m\u001b[0m\n\u001b[0;32m     94\u001b[0m             \u001b[1;32mreturn\u001b[0m \u001b[0mself\u001b[0m\u001b[1;33m.\u001b[0m\u001b[0mdispatch_exception\u001b[0m\u001b[1;33m(\u001b[0m\u001b[0mframe\u001b[0m\u001b[1;33m,\u001b[0m \u001b[0marg\u001b[0m\u001b[1;33m)\u001b[0m\u001b[1;33m\u001b[0m\u001b[1;33m\u001b[0m\u001b[0m\n",
      "\u001b[1;32m~\\Anaconda3\\lib\\bdb.py\u001b[0m in \u001b[0;36mdispatch_return\u001b[1;34m(self, frame, arg)\u001b[0m\n\u001b[0;32m    152\u001b[0m             \u001b[1;32mfinally\u001b[0m\u001b[1;33m:\u001b[0m\u001b[1;33m\u001b[0m\u001b[1;33m\u001b[0m\u001b[0m\n\u001b[0;32m    153\u001b[0m                 \u001b[0mself\u001b[0m\u001b[1;33m.\u001b[0m\u001b[0mframe_returning\u001b[0m \u001b[1;33m=\u001b[0m \u001b[1;32mNone\u001b[0m\u001b[1;33m\u001b[0m\u001b[1;33m\u001b[0m\u001b[0m\n\u001b[1;32m--> 154\u001b[1;33m             \u001b[1;32mif\u001b[0m \u001b[0mself\u001b[0m\u001b[1;33m.\u001b[0m\u001b[0mquitting\u001b[0m\u001b[1;33m:\u001b[0m \u001b[1;32mraise\u001b[0m \u001b[0mBdbQuit\u001b[0m\u001b[1;33m\u001b[0m\u001b[1;33m\u001b[0m\u001b[0m\n\u001b[0m\u001b[0;32m    155\u001b[0m             \u001b[1;31m# The user issued a 'next' or 'until' command.\u001b[0m\u001b[1;33m\u001b[0m\u001b[1;33m\u001b[0m\u001b[1;33m\u001b[0m\u001b[0m\n\u001b[0;32m    156\u001b[0m             \u001b[1;32mif\u001b[0m \u001b[0mself\u001b[0m\u001b[1;33m.\u001b[0m\u001b[0mstopframe\u001b[0m \u001b[1;32mis\u001b[0m \u001b[0mframe\u001b[0m \u001b[1;32mand\u001b[0m \u001b[0mself\u001b[0m\u001b[1;33m.\u001b[0m\u001b[0mstoplineno\u001b[0m \u001b[1;33m!=\u001b[0m \u001b[1;33m-\u001b[0m\u001b[1;36m1\u001b[0m\u001b[1;33m:\u001b[0m\u001b[1;33m\u001b[0m\u001b[1;33m\u001b[0m\u001b[0m\n",
      "\u001b[1;31mBdbQuit\u001b[0m: "
     ]
    }
   ],
   "source": [
    "# eval Query\n",
    "evalIRModel.evaluationQuery(0,0,1)"
   ]
  },
  {
   "cell_type": "code",
   "execution_count": 232,
   "metadata": {},
   "outputs": [
    {
     "data": {
      "text/plain": [
       "[1410, 1572, 1605, 2020, 2358]"
      ]
     },
     "execution_count": 232,
     "metadata": {},
     "output_type": "execute_result"
    }
   ],
   "source": [
    "evalIRModel.getQuerys()[1].getDocspertinents()"
   ]
  },
  {
   "cell_type": "code",
   "execution_count": null,
   "metadata": {},
   "outputs": [],
   "source": [
    "sorted_rel = np.sort(rel, axis=0)[::-1]\n",
    "metric = np.log([2+i for i in range(r)])\n",
    "dcg = np.sum(rel[:r]/metric)\n",
    "dcg_max = np.sum(sorted_rel[:r]/metric)"
   ]
  },
  {
   "cell_type": "markdown",
   "metadata": {},
   "source": [
    "# autre"
   ]
  },
  {
   "cell_type": "code",
   "execution_count": 177,
   "metadata": {},
   "outputs": [],
   "source": [
    "#Init irModel\n",
    "weighter = Weighter1(indexTest, indexInverseTest)\n",
    "irModel1 = Vectoriel(weighter, True)"
   ]
  },
  {
   "cell_type": "code",
   "execution_count": 178,
   "metadata": {},
   "outputs": [
    {
     "data": {
      "text/plain": [
       "IRModel.Vectoriel"
      ]
     },
     "execution_count": 178,
     "metadata": {},
     "output_type": "execute_result"
    }
   ],
   "source": [
    "type(irModel1)"
   ]
  },
  {
   "cell_type": "code",
   "execution_count": 148,
   "metadata": {},
   "outputs": [],
   "source": [
    "#Parse + indexation Docs\n",
    "collecCacm = Parser.parseCacmCisi('cacm.txt')\n",
    "indexer=IndexerSimple(collecCacm)\n",
    "indexer.indexation()\n",
    "indexTest, indexInverseTest = indexer.getIndex(), indexer.getIndexInv()"
   ]
  },
  {
   "cell_type": "code",
   "execution_count": 149,
   "metadata": {},
   "outputs": [],
   "source": [
    "#Parse querys\n",
    "req1 = ParserQuery.parseQRY('cacm.qry')\n",
    "querys = ParserQuery.parseREL('cacm.rel',req1)"
   ]
  },
  {
   "cell_type": "code",
   "execution_count": 150,
   "metadata": {},
   "outputs": [],
   "source": [
    "#Init irModel\n",
    "weighter = Weighter1(indexTest, indexInverseTest)\n",
    "irModel1 = Vectoriel(weighter, True)"
   ]
  },
  {
   "cell_type": "code",
   "execution_count": 151,
   "metadata": {},
   "outputs": [],
   "source": [
    "#Init evaluation modes\n",
    "k=3 #rang\n",
    "evalMesure1 = NGCD(k)"
   ]
  },
  {
   "cell_type": "code",
   "execution_count": 152,
   "metadata": {},
   "outputs": [
    {
     "data": {
      "text/plain": [
       "[0.0,\n",
       " 0,\n",
       " 0.0,\n",
       " 0.0,\n",
       " 0.0,\n",
       " 0.0,\n",
       " 0.0,\n",
       " 0.0,\n",
       " 0.0,\n",
       " 0.23463936301137822,\n",
       " 0,\n",
       " 0.0,\n",
       " 0.0,\n",
       " 0.23463936301137822,\n",
       " 0.0,\n",
       " 0.0,\n",
       " 0.0,\n",
       " 0.0,\n",
       " 0.0,\n",
       " 0.0,\n",
       " 0.0,\n",
       " 0.0,\n",
       " 0.0,\n",
       " 0.0,\n",
       " 0.23463936301137822,\n",
       " 0.0,\n",
       " 0.0,\n",
       " 0.0,\n",
       " 0.7039180890341346,\n",
       " 0.46927872602275644,\n",
       " 0.0,\n",
       " 0.29608191096586517,\n",
       " 0.0,\n",
       " 0,\n",
       " 0,\n",
       " 0.0,\n",
       " 0.0,\n",
       " 0.29608191096586517,\n",
       " 0.23463936301137822,\n",
       " 0.0,\n",
       " 0,\n",
       " 0.7039180890341346,\n",
       " 0.0,\n",
       " 0.0,\n",
       " 0.46927872602275644,\n",
       " 0,\n",
       " 0,\n",
       " 0.46927872602275644,\n",
       " 0.0,\n",
       " 0,\n",
       " 0,\n",
       " 0,\n",
       " 0,\n",
       " 0,\n",
       " 0,\n",
       " 0,\n",
       " 1.0,\n",
       " 0.5307212739772434,\n",
       " 0.29608191096586517,\n",
       " 0.0,\n",
       " 0.7653606369886217,\n",
       " 0.0,\n",
       " 0.46927872602275644,\n",
       " 0]"
      ]
     },
     "execution_count": 152,
     "metadata": {},
     "output_type": "execute_result"
    }
   ],
   "source": [
    "#EvalIRModel init\n",
    "\n",
    "evalIRModel = EvalIRModel([irModel1],[evalMesure1],indexer,querys)\n",
    "len(evalIRModel.getQuerys())\n",
    "evalIRModel.evaluationSimple(0,0)"
   ]
  },
  {
   "cell_type": "code",
   "execution_count": 182,
   "metadata": {},
   "outputs": [],
   "source": [
    "if type(0) == list:\n",
    "    print(\"coucou\")"
   ]
  },
  {
   "cell_type": "code",
   "execution_count": 176,
   "metadata": {},
   "outputs": [
    {
     "data": {
      "text/plain": [
       "int"
      ]
     },
     "execution_count": 176,
     "metadata": {},
     "output_type": "execute_result"
    }
   ],
   "source": [
    "type(0)"
   ]
  },
  {
   "cell_type": "code",
   "execution_count": 183,
   "metadata": {},
   "outputs": [
    {
     "ename": "SyntaxError",
     "evalue": "invalid syntax (<ipython-input-183-f076fbdbe794>, line 1)",
     "output_type": "error",
     "traceback": [
      "\u001b[1;36m  File \u001b[1;32m\"<ipython-input-183-f076fbdbe794>\"\u001b[1;36m, line \u001b[1;32m1\u001b[0m\n\u001b[1;33m    print(i) for i in range(6)\u001b[0m\n\u001b[1;37m               ^\u001b[0m\n\u001b[1;31mSyntaxError\u001b[0m\u001b[1;31m:\u001b[0m invalid syntax\n"
     ]
    }
   ],
   "source": [
    "print(i) for i in range(6)"
   ]
  },
  {
   "cell_type": "code",
   "execution_count": 184,
   "metadata": {},
   "outputs": [],
   "source": [
    "a = [0,1]"
   ]
  },
  {
   "cell_type": "code",
   "execution_count": 185,
   "metadata": {},
   "outputs": [],
   "source": [
    "a.append([0,0])"
   ]
  },
  {
   "cell_type": "code",
   "execution_count": 186,
   "metadata": {},
   "outputs": [
    {
     "data": {
      "text/plain": [
       "[0, 1, [0, 0]]"
      ]
     },
     "execution_count": 186,
     "metadata": {},
     "output_type": "execute_result"
    }
   ],
   "source": [
    "a"
   ]
  },
  {
   "cell_type": "code",
   "execution_count": null,
   "metadata": {},
   "outputs": [],
   "source": []
  }
 ],
 "metadata": {
  "kernelspec": {
   "display_name": "Python 3",
   "language": "python",
   "name": "python3"
  },
  "language_info": {
   "codemirror_mode": {
    "name": "ipython",
    "version": 3
   },
   "file_extension": ".py",
   "mimetype": "text/x-python",
   "name": "python",
   "nbconvert_exporter": "python",
   "pygments_lexer": "ipython3",
   "version": "3.7.3"
  }
 },
 "nbformat": 4,
 "nbformat_minor": 4
}
