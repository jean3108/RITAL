{
 "cells": [
  {
   "cell_type": "code",
   "execution_count": 239,
   "metadata": {},
   "outputs": [
    {
     "ename": "ImportError",
     "evalue": "cannot import name 'Weighter' from 'Weighter' (C:\\Users\\33658\\Documents\\GitHub\\RITAL\\tme3\\Weighter.py)",
     "output_type": "error",
     "traceback": [
      "\u001b[1;31m---------------------------------------------------------------------------\u001b[0m",
      "\u001b[1;31mImportError\u001b[0m                               Traceback (most recent call last)",
      "\u001b[1;32m<ipython-input-239-839f3e6122ec>\u001b[0m in \u001b[0;36m<module>\u001b[1;34m\u001b[0m\n\u001b[0;32m      3\u001b[0m \u001b[1;32mimport\u001b[0m \u001b[0mporter\u001b[0m \u001b[1;32mas\u001b[0m \u001b[0mp\u001b[0m\u001b[1;33m\u001b[0m\u001b[1;33m\u001b[0m\u001b[0m\n\u001b[0;32m      4\u001b[0m \u001b[1;32mimport\u001b[0m \u001b[0mre\u001b[0m\u001b[1;33m\u001b[0m\u001b[1;33m\u001b[0m\u001b[0m\n\u001b[1;32m----> 5\u001b[1;33m \u001b[1;32mfrom\u001b[0m \u001b[0mWeighter\u001b[0m \u001b[1;32mimport\u001b[0m \u001b[0mWeighter\u001b[0m\u001b[1;33m\u001b[0m\u001b[1;33m\u001b[0m\u001b[0m\n\u001b[0m\u001b[0;32m      6\u001b[0m \u001b[1;32mfrom\u001b[0m \u001b[0mWeighter1\u001b[0m \u001b[1;32mimport\u001b[0m \u001b[0mWeighter1\u001b[0m\u001b[1;33m\u001b[0m\u001b[1;33m\u001b[0m\u001b[0m\n",
      "\u001b[1;31mImportError\u001b[0m: cannot import name 'Weighter' from 'Weighter' (C:\\Users\\33658\\Documents\\GitHub\\RITAL\\tme3\\Weighter.py)"
     ]
    }
   ],
   "source": [
    "import numpy as np\n",
    "from collections import Counter\n",
    "import porter as p\n",
    "import re\n",
    "from Weighter import Weighter\n",
    "from Weighter1 import Weighter1"
   ]
  },
  {
   "cell_type": "markdown",
   "metadata": {},
   "source": [
    "- Données test (Docs / Requêtes)"
   ]
  },
  {
   "cell_type": "code",
   "execution_count": 148,
   "metadata": {},
   "outputs": [],
   "source": [
    "docs=[\"the new home has been saled on top forecasts\",\n",
    "     \"the home sales rise in july\",\n",
    "     \"there is an increase in home sales in july\",\n",
    "     \"july encounter a new home sales rise\"]\n",
    "\n",
    "reqs = [\"top sales\",\n",
    "       \"sales increase july\",\n",
    "       \"new home\"]\n",
    "\n",
    "stopWords=[\"the\",\"a\",\"an\",\"on\",\"behind\",\"under\",\"there\",\"in\"]\n",
    "\n",
    "index = {}\n",
    "for i in range(len(docs)):\n",
    "    index[i] = dict(Counter(map(p.stem, [word for word in (str.lower(docs[i])).split() if word not in stopWords])))           \n",
    "            \n",
    "indexInverse = {}\n",
    "for numDoc, dico in index.items():\n",
    "    for word, tf in dico.items():\n",
    "        if(word not in indexInverse):\n",
    "            indexInverse[word]= {}\n",
    "        indexInverse[word][numDoc] = tf"
   ]
  },
  {
   "cell_type": "markdown",
   "metadata": {},
   "source": [
    "- Pertinence des requêtes"
   ]
  },
  {
   "cell_type": "code",
   "execution_count": 149,
   "metadata": {},
   "outputs": [],
   "source": [
    "pertiReq = {0:{0},      #doc1 pertinent pour req1\n",
    "           1:{1,2},     #doc2 et 3 pertinent pour req2 (doc2 plus pertinent que doc3)\n",
    "           2:{}}        #aucuns docs pertinents pour req3"
   ]
  },
  {
   "cell_type": "code",
   "execution_count": 150,
   "metadata": {},
   "outputs": [],
   "source": [
    "if 1 in pertiReq[0]:\n",
    "    print(\"hello\")"
   ]
  },
  {
   "cell_type": "markdown",
   "metadata": {},
   "source": [
    "## Exercice 1."
   ]
  },
  {
   "cell_type": "markdown",
   "metadata": {},
   "source": [
    "- modèle booléen"
   ]
  },
  {
   "cell_type": "code",
   "execution_count": 151,
   "metadata": {},
   "outputs": [],
   "source": [
    "def booleen(query):\n",
    "    req = list(np.unique(list(map(p.stem, query.split())))) \n",
    "    #représentation du résultat comme unensemble de documents\n",
    "    res=set(index)\n",
    "    for stem in req:\n",
    "        res=res.intersection(indexInverse[stem])#On récupère l'intersection des documents contenant un mot de la requete\n",
    "    return res"
   ]
  },
  {
   "cell_type": "code",
   "execution_count": 152,
   "metadata": {},
   "outputs": [
    {
     "data": {
      "text/plain": [
       "{2}"
      ]
     },
     "execution_count": 152,
     "metadata": {},
     "output_type": "execute_result"
    }
   ],
   "source": [
    "booleen(reqs[1])"
   ]
  },
  {
   "cell_type": "markdown",
   "metadata": {},
   "source": [
    "- modele vectoriel"
   ]
  },
  {
   "cell_type": "code",
   "execution_count": 153,
   "metadata": {},
   "outputs": [],
   "source": [
    "#modele vectoriel\n",
    "def vect(query):\n",
    "    nbDoc = 4\n",
    "    req = list(np.unique(list(map(p.stem,query.split()))))\n",
    "    res = [indexInverse[i] for i in req]\n",
    "    doc = []\n",
    "    doc_res = np.zeros(nbDoc)\n",
    "    for w in res:\n",
    "        doc.append(set(w.keys()))\n",
    "    for w in doc:\n",
    "        for d in w:\n",
    "            doc_res[d]+=1\n",
    "    return doc_res"
   ]
  },
  {
   "cell_type": "markdown",
   "metadata": {},
   "source": [
    "#### Precision (capacité à ne retourner que des docs pertinents)"
   ]
  },
  {
   "cell_type": "code",
   "execution_count": 154,
   "metadata": {},
   "outputs": [],
   "source": [
    "def preci(idQuery, modele = 0):\n",
    "    if modele == 0:\n",
    "        docs_retournés = booleen(reqs[idQuery])\n",
    "    elif modele == 1:\n",
    "        docs_retournés = vect(reqs[idQuery])\n",
    "    pert = set(pertiReq[idQuery])     #docs jugés pertinents\n",
    "    tp = docs_retournés.intersection(pert)  #True positifs (R & P)\n",
    "    fp = docs_retournés.difference(preci)   #False positifs (R-P)\n",
    "    if len(tp) == 0 & len(fp) == 0:\n",
    "        return 0\n",
    "    return len(tp)/(len(tp)+len(fp))     #mesure de précision"
   ]
  },
  {
   "cell_type": "code",
   "execution_count": 155,
   "metadata": {},
   "outputs": [],
   "source": [
    "def preciRangk(rang,idQuery,score,jugement):\n",
    "    \"\"\" score: dict() -> {idDoc: scoreDoc} dépend du modèle de poids adopté\n",
    "        (trié par score décroissant)\n",
    "        jugement : pertinence des requêtes\"\"\"\n",
    "    k = rang\n",
    "    res = 0\n",
    "    for i in k:\n",
    "        if score[i] in jugement[idQuery]:\n",
    "            res+=1\n",
    "    return res/k"
   ]
  },
  {
   "cell_type": "markdown",
   "metadata": {},
   "source": [
    "#### Rappel (capacité à retourner tous les docs pertinents)"
   ]
  },
  {
   "cell_type": "code",
   "execution_count": 156,
   "metadata": {},
   "outputs": [],
   "source": [
    "def rappel(idQuery, modele = 0):\n",
    "    if modele == 0:\n",
    "        docs_retournés = booleen(reqs[idQuery])\n",
    "    elif modele == 1:\n",
    "        docs_retournés = set(vect(reqs[idQuery]))\n",
    "    pert = set(pertiReq[idQuery])      #docs jugés pertinents\n",
    "    tp = docs_retournés.intersection(pert)    #True positifs (R & P)\n",
    "    fn = pert.difference(docs_retournés)      #False negatifs (P-R)\n",
    "    if len(tp) == 0 & len(fn) == 0:\n",
    "        return 0\n",
    "    return len(tp)/(len(tp)+len(fn))      #mesure de rappel"
   ]
  },
  {
   "cell_type": "code",
   "execution_count": 157,
   "metadata": {},
   "outputs": [],
   "source": [
    "def rappelRangk(rang,idQuery,score,jugement):\n",
    "    \"\"\" score: dict() -> {idDoc: scoreDoc} dépend du modèle de poids adopté\n",
    "        (trié par score décroissant)\n",
    "        jugement : pertinence des requêtes\"\"\"\n",
    "    k = rang\n",
    "    res = 0\n",
    "    for i in k:\n",
    "        if score[i] in jugement[idQuery]:\n",
    "            res+=1\n",
    "    return res/len(jugement[idQuery])"
   ]
  },
  {
   "cell_type": "code",
   "execution_count": 158,
   "metadata": {},
   "outputs": [
    {
     "data": {
      "text/plain": [
       "0"
      ]
     },
     "execution_count": 158,
     "metadata": {},
     "output_type": "execute_result"
    }
   ],
   "source": [
    "rappel(2,1)"
   ]
  },
  {
   "cell_type": "code",
   "execution_count": 159,
   "metadata": {},
   "outputs": [],
   "source": [
    "def fMesure(idQuery, rang):\n",
    "    r = rappel(idQuery)\n",
    "    p = preci(idQuery)\n",
    "    fact1 = 1+rang**2\n",
    "    fact2 = (p*r)/(p*(rang**2)+r)\n",
    "    return fact1*fact2"
   ]
  },
  {
   "cell_type": "markdown",
   "metadata": {},
   "source": [
    "#### Mesure NCDG"
   ]
  },
  {
   "cell_type": "code",
   "execution_count": 32,
   "metadata": {},
   "outputs": [],
   "source": [
    "def NDCG(idQuery):\n",
    "    #TODO\n",
    "    pass"
   ]
  },
  {
   "cell_type": "markdown",
   "metadata": {},
   "source": [
    "## Exercice 2."
   ]
  },
  {
   "cell_type": "markdown",
   "metadata": {},
   "source": [
    "## 1. Chargement des requêtes et de leur pertinence"
   ]
  },
  {
   "cell_type": "code",
   "execution_count": 160,
   "metadata": {},
   "outputs": [],
   "source": [
    "class Query():\n",
    "    def __init__(self, idQuery):\n",
    "        self.identifiant = int(idQuery)\n",
    "        self.texte = \"\"\n",
    "        self.docsPertinents = []\n",
    "     \n",
    "    #GETTERS\n",
    "    def getIdentifiant(self):\n",
    "        return self.identifiant\n",
    "        \n",
    "    def getTexte(self):\n",
    "        return self.texte\n",
    "        \n",
    "    def getDocspertinents(self):\n",
    "        return self.docsPertinents\n",
    "    \n",
    "    # SETTERS\n",
    "    def setTexte(self, texte):\n",
    "        self.texte = texte\n",
    "        \n",
    "    def setDocspertinents(self, docs):\n",
    "        self.docsPertinents = docs\n",
    "        \n",
    "        \n",
    "    # METHODES\n",
    "    def addTexte(self, texte):\n",
    "        self.texte += texte\n",
    "        \n",
    "    def addDocspertinents(self,doc):\n",
    "        self.docsPertinents.append(doc)"
   ]
  },
  {
   "cell_type": "code",
   "execution_count": 161,
   "metadata": {},
   "outputs": [],
   "source": [
    "class ParserQuery():\n",
    "    \n",
    "    def parseQRY(chemin):\n",
    "        \"\"\" \n",
    "        Fonction permettant de parser les fichers QRY (requêtes avec leurs identifiants et leur texte)\n",
    "        \"\"\"\n",
    "        file = open(chemin, 'r') \n",
    "\n",
    "        res = {}\n",
    "        currentI = None\n",
    "        currentBalise = None \n",
    "        currentQuery = None\n",
    "\n",
    "        while True:\n",
    "            #lis une seule ligne\n",
    "            line = file.readline()\n",
    "\n",
    "            #si ligne vide, fin du fichier\n",
    "            if not line:\n",
    "                break\n",
    "\n",
    "            #récupère la ligne sous forme de mots\n",
    "            words=line.split()\n",
    "\n",
    "            #Si la ligne n'est pas vide\n",
    "            if(len(words)>0):\n",
    "                #Test si on est sur une balise et laquelle\n",
    "                if(words[0]==\".I\"):\n",
    "\n",
    "                    if(currentQuery != None):\n",
    "                        #J'enregistre la requete courante avant d'en créer une autre\n",
    "                        res[currentQuery.getIdentifiant()] = currentQuery \n",
    "\n",
    "                    del currentQuery\n",
    "                    currentQuery = Query(words[1])# Création d'une requete avec son identifiant\n",
    "                    currentI = words[1]\n",
    "                    currentBalise = 'I' \n",
    "\n",
    "                elif(words[0]==\".W\"):\n",
    "                    currentBalise='W' #J'indique que je suis danc une balise W\n",
    "                elif(words[0][0]=='.'): \n",
    "                    currentBalise='unknown' #J'indique que je suis dans une balsie inconnue\n",
    "                else: \n",
    "                    #On est dans le contenu d'une balise\n",
    "                    if(currentBalise=='W'):\n",
    "                        currentQuery.addTexte(line)#J'ajoute la ligne au texte de la requête\n",
    "\n",
    "        #J'enregistre la requête courante avant de quitter\n",
    "        res[currentQuery.getIdentifiant()] = currentQuery\n",
    "\n",
    "        file.close()\n",
    "        return res\n",
    "    \n",
    "    \n",
    "    def parseREL(chemin, reqs):\n",
    "        \n",
    "        file = open(chemin, 'r') \n",
    "        \n",
    "        while True:\n",
    "            #lis une seule ligne\n",
    "            line = file.readline()\n",
    "\n",
    "            #si ligne vide, fin du fichier\n",
    "            if not line:\n",
    "                break\n",
    "            words=line.split()\n",
    "            \n",
    "            if int(words[0][0]) == 0:\n",
    "                docPertinent = int(re.split('^0*',words[1])[1])\n",
    "                reqs[int(words[0][1])].addDocspertinents(docPertinent)\n",
    "            else:\n",
    "                docPertinent = int(re.split('^0*',words[1])[1])\n",
    "                reqs[int(words[0])].addDocspertinents(docPertinent)\n",
    "                     \n",
    "        file.close()\n",
    "        return reqs"
   ]
  },
  {
   "cell_type": "code",
   "execution_count": 162,
   "metadata": {},
   "outputs": [],
   "source": [
    "req1 = ParserQuery.parseQRY('cacm.qry')\n",
    "req2 = ParserQuery.parseREL('cacm.rel',req1)"
   ]
  },
  {
   "cell_type": "code",
   "execution_count": 163,
   "metadata": {},
   "outputs": [
    {
     "data": {
      "text/plain": [
       "[1410, 1572, 1605, 2020, 2358]"
      ]
     },
     "execution_count": 163,
     "metadata": {},
     "output_type": "execute_result"
    }
   ],
   "source": [
    "req2[1].getDocspertinents()"
   ]
  },
  {
   "cell_type": "code",
   "execution_count": 118,
   "metadata": {},
   "outputs": [],
   "source": [
    "tel = '0100'\n",
    "t = re.split('^0*',tel)\n",
    "regex = re.compile('^[0-9]{2}\\s[0-9]{4}')"
   ]
  },
  {
   "cell_type": "code",
   "execution_count": 119,
   "metadata": {},
   "outputs": [
    {
     "data": {
      "text/plain": [
       "['', '100']"
      ]
     },
     "execution_count": 119,
     "metadata": {},
     "output_type": "execute_result"
    }
   ],
   "source": [
    "t"
   ]
  },
  {
   "cell_type": "code",
   "execution_count": 88,
   "metadata": {},
   "outputs": [
    {
     "data": {
      "text/plain": [
       "True"
      ]
     },
     "execution_count": 88,
     "metadata": {},
     "output_type": "execute_result"
    }
   ],
   "source": [
    "int(tel.split()[0][0]) == 0"
   ]
  },
  {
   "cell_type": "markdown",
   "metadata": {},
   "source": [
    "## 2. Métriques"
   ]
  },
  {
   "cell_type": "code",
   "execution_count": 209,
   "metadata": {},
   "outputs": [],
   "source": [
    "class EvalMesure():\n",
    "    \n",
    "    def __init__(self,query):\n",
    "        self.query = query\n",
    "        \n",
    "    def evalQuery(self,liste):\n",
    "        pass\n",
    "    \n",
    "    #GETTERS\n",
    "    def getQuery(self):\n",
    "        return self.query"
   ]
  },
  {
   "cell_type": "code",
   "execution_count": 210,
   "metadata": {},
   "outputs": [],
   "source": [
    "class Precision(EvalMesure):\n",
    "    \n",
    "    def __init__(self,query,k):\n",
    "        \n",
    "        super().__init__(query)\n",
    "        self.rang = k\n",
    "        \n",
    "    def evalQuery(self, liste):\n",
    "        \"\"\" liste: dict() -> {idDoc: scoreDoc} dépend du modèle de poids adopté\n",
    "        (trié par score décroissant)\n",
    "        jugement : pertinence des requêtes\"\"\"\n",
    "        res = 0\n",
    "        for i in self.rang:\n",
    "            if score[i] in self.query.getDocspertinents():\n",
    "                res+=1\n",
    "        return res/self.rang"
   ]
  },
  {
   "cell_type": "code",
   "execution_count": 194,
   "metadata": {},
   "outputs": [],
   "source": [
    "class Rappel(EvalMesure):\n",
    "    \n",
    "    def __init__(self,reqs,jugement,k):\n",
    "        \n",
    "        super().__init__(reqs,jugement)\n",
    "        self.rang = k\n",
    "        \n",
    "    def evalQuery(self, liste):\n",
    "        \"\"\" liste: dict() -> {idDoc: scoreDoc} dépend du modèle de poids adopté\n",
    "        (trié par score décroissant)\n",
    "        jugement : pertinence des requêtes\"\"\"\n",
    "        rang = k\n",
    "        res = 0\n",
    "        for i in k:\n",
    "            if score[i] in self.query.getDocspertinents():\n",
    "                res+=1\n",
    "        return res/len(self.query.getDocspertinents())\n",
    "    "
   ]
  },
  {
   "cell_type": "code",
   "execution_count": 195,
   "metadata": {},
   "outputs": [],
   "source": [
    "class AP(EvalMesure):\n",
    "    \"\"\"Avg precision\"\"\"\n",
    "    \n",
    "    def __init__(self,reqs,jugement,k):\n",
    "        \n",
    "        super().__init__(reqs,jugement)\n",
    "        \n",
    "    def evalQuery(self, liste):\n",
    "        \"\"\" calcul de la preci moyenne\"\"\"\n",
    "        nq = len(self.query.getDocspertinents()) #nb de doc pertinent pour q\n",
    "        res = 0\n",
    "        k=1 #initialisation du rang\n",
    "        for i in score.keys():\n",
    "            res+=self.preci(liste, k)\n",
    "        return res/nq\n",
    "    \n",
    "    def preci(self, liste, rang):\n",
    "        \"\"\" liste: dict() -> {idDoc: scoreDoc} dépend du modèle de poids adopté\n",
    "        (trié par score décroissant)\n",
    "        jugement : pertinence des requêtes\"\"\"\n",
    "        res = 0\n",
    "        for i in rang:\n",
    "            if score[i] in self.query.getDocspertinents():\n",
    "                res+=1\n",
    "        return res/rang"
   ]
  },
  {
   "cell_type": "markdown",
   "metadata": {},
   "source": [
    "## Test"
   ]
  },
  {
   "cell_type": "code",
   "execution_count": 213,
   "metadata": {},
   "outputs": [],
   "source": [
    "r = ParserQuery.parseQRY('cacm.qry')\n",
    "querys = ParserQuery.parseREL('cacm.rel',r)\n",
    "query = querys[1]"
   ]
  },
  {
   "cell_type": "code",
   "execution_count": 214,
   "metadata": {},
   "outputs": [
    {
     "data": {
      "text/plain": [
       "[1410, 1572, 1605, 2020, 2358]"
      ]
     },
     "execution_count": 214,
     "metadata": {},
     "output_type": "execute_result"
    }
   ],
   "source": [
    "k = 2 #rang\n",
    "mesurePreci = Precision(query,k)\n",
    "mesurePreci.getQuery().getDocspertinents()"
   ]
  },
  {
   "cell_type": "markdown",
   "metadata": {},
   "source": [
    "## 3. Plateforme d'évaluation"
   ]
  },
  {
   "cell_type": "code",
   "execution_count": null,
   "metadata": {},
   "outputs": [],
   "source": []
  }
 ],
 "metadata": {
  "kernelspec": {
   "display_name": "Python 3",
   "language": "python",
   "name": "python3"
  },
  "language_info": {
   "codemirror_mode": {
    "name": "ipython",
    "version": 3
   },
   "file_extension": ".py",
   "mimetype": "text/x-python",
   "name": "python",
   "nbconvert_exporter": "python",
   "pygments_lexer": "ipython3",
   "version": "3.7.3"
  }
 },
 "nbformat": 4,
 "nbformat_minor": 4
}
